{
 "cells": [
  {
   "cell_type": "markdown",
   "id": "c54c6651-1915-43f6-8109-4c652af715ab",
   "metadata": {},
   "source": [
    "# Assignment 2\n",
    "### Data description\n",
    "Same dataset as assignment 1, details of whom can be visited [here](https://github.com/Aryaman-Chauhan/Machine_Learning_Assignments/blob/main/Assignment%201/data1/census-income_definition.pdf). \n",
    "### Tasks to complete\n",
    "- Deal with missing data\n",
    "- Further preprocess the data\n",
    "- Build classifier for predicting salary class of type:\n",
    "    1. Naive Bayes Classifier\n",
    "    2. Logistic Regression\n",
    "    3. Neural Network Classifier with 1, 2 , and 3 hidden layers\n",
    "- Combine Training and Testing dataset and randomly select 67% for training, using the rest for testing, and check difference in results.\n",
    "- Compare and find the most optimal classifier:\n",
    "    1. Naive Bayes Classifier\n",
    "    2. Logistic Regression\n",
    "    3. Neural Network Classifier with 1, 2 , and 3 hidden layers\n",
    "    4. Decision Tree Classifier(Use data from Assignment 1)\n",
    "    5. Random Forest Classifier\n",
    "This assignment tries to study vaarious classifier and find the best among them for a dataset which has both discrete and continuous, numeric and non-numeric values."
   ]
  },
  {
   "cell_type": "code",
   "execution_count": 1,
   "id": "e082cac6-81cf-4cb5-80fc-84346115c523",
   "metadata": {},
   "outputs": [],
   "source": [
    "import pandas as pd\n",
    "import numpy as np\n",
    "import matplotlib.pyplot as plt\n",
    "from matplotlib.colors import ListedColormap\n",
    "from sklearn.model_selection import train_test_split\n",
    "from sklearn.preprocessing import LabelEncoder, StandardScaler\n",
    "from sklearn.naive_bayes import GaussianNB\n",
    "from sklearn.linear_model import LogisticRegression\n",
    "from sklearn.metrics import confusion_matrix\n",
    "import torch\n",
    "import torch.nn as nn\n",
    "import seaborn as sns\n",
    "import json\n",
    "import pickle\n",
    "import math\n",
    "%matplotlib inline"
   ]
  },
  {
   "cell_type": "markdown",
   "id": "696c597a-1ffd-408d-b307-7f391ee8f751",
   "metadata": {},
   "source": [
    "## Preprocessing the data\n",
    "We will preprocess the data somewhat similar to the way we did in assignment 1, where we will imporve some of our oversights to further improve model.\n",
    "#### Steps to improve the model\n",
    "- Deal with missing values: We will replace the missing values with the median for that particular column. We're doing this because although mean is a good estimate, it can be heavily affected by outliers. Median prevents that and allows us to keep our data from getting skewed.\n",
    "- Encode the data. We will encode our data to ensure that it works for classifiers which majorly don't take non-numeric values. We've ensured that this encoding is meaningful, like education increases from preschool to doctorate. The new Encoding can be found [here](https://github.com/Aryaman-Chauhan/Machine_Learning_Assignments/blob/main/Assignment%202/label_mapping.json).\n",
    "- We will also scale our data this time to ensure that one column doesn't affect the data more that the other. For this we will use StandardScaler from sklearn, which subtracts the mean and divides by standard deviation:\n",
    "$$ z = \\frac{x - \\mu}{\\sigma} $$\n",
    "where:\n",
    "$$ \\mu = \\frac{1}{N} \\sum_{i=1}^N x_i $$ \n",
    "as mean and standard deviation:\n",
    "$$ \\sigma = \\sqrt{\\sum_{i=1}^N \\frac{(x_i - \\mu)^2}{N}} $$"
   ]
  },
  {
   "cell_type": "code",
   "execution_count": 2,
   "id": "bd7c8b7a-b4f8-48b2-a73b-a0a44a0022b4",
   "metadata": {
    "tags": []
   },
   "outputs": [
    {
     "data": {
      "text/html": [
       "<div>\n",
       "<style scoped>\n",
       "    .dataframe tbody tr th:only-of-type {\n",
       "        vertical-align: middle;\n",
       "    }\n",
       "\n",
       "    .dataframe tbody tr th {\n",
       "        vertical-align: top;\n",
       "    }\n",
       "\n",
       "    .dataframe thead th {\n",
       "        text-align: right;\n",
       "    }\n",
       "</style>\n",
       "<table border=\"1\" class=\"dataframe\">\n",
       "  <thead>\n",
       "    <tr style=\"text-align: right;\">\n",
       "      <th></th>\n",
       "      <th>age</th>\n",
       "      <th>workclass</th>\n",
       "      <th>fnlwgt</th>\n",
       "      <th>education</th>\n",
       "      <th>education-num</th>\n",
       "      <th>marital-status</th>\n",
       "      <th>occupation</th>\n",
       "      <th>relationship</th>\n",
       "      <th>race</th>\n",
       "      <th>sex</th>\n",
       "      <th>capital-gain</th>\n",
       "      <th>capital-loss</th>\n",
       "      <th>hours-per-week</th>\n",
       "      <th>native-country</th>\n",
       "      <th>class</th>\n",
       "    </tr>\n",
       "  </thead>\n",
       "  <tbody>\n",
       "    <tr>\n",
       "      <th>0</th>\n",
       "      <td>39</td>\n",
       "      <td>State-gov</td>\n",
       "      <td>77516</td>\n",
       "      <td>Bachelors</td>\n",
       "      <td>13</td>\n",
       "      <td>Never-married</td>\n",
       "      <td>Adm-clerical</td>\n",
       "      <td>Not-in-family</td>\n",
       "      <td>White</td>\n",
       "      <td>Male</td>\n",
       "      <td>2174</td>\n",
       "      <td>0</td>\n",
       "      <td>40</td>\n",
       "      <td>United-States</td>\n",
       "      <td>&lt;=50K</td>\n",
       "    </tr>\n",
       "    <tr>\n",
       "      <th>1</th>\n",
       "      <td>50</td>\n",
       "      <td>Self-emp-not-inc</td>\n",
       "      <td>83311</td>\n",
       "      <td>Bachelors</td>\n",
       "      <td>13</td>\n",
       "      <td>Married-civ-spouse</td>\n",
       "      <td>Exec-managerial</td>\n",
       "      <td>Husband</td>\n",
       "      <td>White</td>\n",
       "      <td>Male</td>\n",
       "      <td>0</td>\n",
       "      <td>0</td>\n",
       "      <td>13</td>\n",
       "      <td>United-States</td>\n",
       "      <td>&lt;=50K</td>\n",
       "    </tr>\n",
       "    <tr>\n",
       "      <th>2</th>\n",
       "      <td>38</td>\n",
       "      <td>Private</td>\n",
       "      <td>215646</td>\n",
       "      <td>HS-grad</td>\n",
       "      <td>9</td>\n",
       "      <td>Divorced</td>\n",
       "      <td>Handlers-cleaners</td>\n",
       "      <td>Not-in-family</td>\n",
       "      <td>White</td>\n",
       "      <td>Male</td>\n",
       "      <td>0</td>\n",
       "      <td>0</td>\n",
       "      <td>40</td>\n",
       "      <td>United-States</td>\n",
       "      <td>&lt;=50K</td>\n",
       "    </tr>\n",
       "    <tr>\n",
       "      <th>3</th>\n",
       "      <td>53</td>\n",
       "      <td>Private</td>\n",
       "      <td>234721</td>\n",
       "      <td>11th</td>\n",
       "      <td>7</td>\n",
       "      <td>Married-civ-spouse</td>\n",
       "      <td>Handlers-cleaners</td>\n",
       "      <td>Husband</td>\n",
       "      <td>Black</td>\n",
       "      <td>Male</td>\n",
       "      <td>0</td>\n",
       "      <td>0</td>\n",
       "      <td>40</td>\n",
       "      <td>United-States</td>\n",
       "      <td>&lt;=50K</td>\n",
       "    </tr>\n",
       "    <tr>\n",
       "      <th>4</th>\n",
       "      <td>28</td>\n",
       "      <td>Private</td>\n",
       "      <td>338409</td>\n",
       "      <td>Bachelors</td>\n",
       "      <td>13</td>\n",
       "      <td>Married-civ-spouse</td>\n",
       "      <td>Prof-specialty</td>\n",
       "      <td>Wife</td>\n",
       "      <td>Black</td>\n",
       "      <td>Female</td>\n",
       "      <td>0</td>\n",
       "      <td>0</td>\n",
       "      <td>40</td>\n",
       "      <td>Cuba</td>\n",
       "      <td>&lt;=50K</td>\n",
       "    </tr>\n",
       "  </tbody>\n",
       "</table>\n",
       "</div>"
      ],
      "text/plain": [
       "   age         workclass  fnlwgt  education  education-num  \\\n",
       "0   39         State-gov   77516  Bachelors             13   \n",
       "1   50  Self-emp-not-inc   83311  Bachelors             13   \n",
       "2   38           Private  215646    HS-grad              9   \n",
       "3   53           Private  234721       11th              7   \n",
       "4   28           Private  338409  Bachelors             13   \n",
       "\n",
       "       marital-status         occupation   relationship   race     sex  \\\n",
       "0       Never-married       Adm-clerical  Not-in-family  White    Male   \n",
       "1  Married-civ-spouse    Exec-managerial        Husband  White    Male   \n",
       "2            Divorced  Handlers-cleaners  Not-in-family  White    Male   \n",
       "3  Married-civ-spouse  Handlers-cleaners        Husband  Black    Male   \n",
       "4  Married-civ-spouse     Prof-specialty           Wife  Black  Female   \n",
       "\n",
       "   capital-gain  capital-loss  hours-per-week native-country  class  \n",
       "0          2174             0              40  United-States  <=50K  \n",
       "1             0             0              13  United-States  <=50K  \n",
       "2             0             0              40  United-States  <=50K  \n",
       "3             0             0              40  United-States  <=50K  \n",
       "4             0             0              40           Cuba  <=50K  "
      ]
     },
     "execution_count": 2,
     "metadata": {},
     "output_type": "execute_result"
    }
   ],
   "source": [
    "train_df = pd.read_csv(\"data/train.csv\", na_values=\"?\")\n",
    "test_df = pd.read_csv(\"data/test.csv\", na_values=\"?\")\n",
    "train_df.head()"
   ]
  },
  {
   "cell_type": "code",
   "execution_count": 4,
   "id": "4ed0de96-2dba-49f1-8504-093a0be2928e",
   "metadata": {
    "tags": []
   },
   "outputs": [],
   "source": [
    "def dfFillNaN(data_df):\n",
    "    median_values = data_df.median(numeric_only=True)\n",
    "    data_df = data_df.fillna(median_values)\n",
    "    processed_df = pd.DataFrame()\n",
    "    for column in data_df.columns:\n",
    "        if data_df[column].dtype == 'object':\n",
    "            mode_value = data_df[column].mode()[0]\n",
    "            processed_df[column] = data_df[column].fillna(mode_value)\n",
    "        else:\n",
    "            processed_df[column] = data_df[column]\n",
    "    return processed_df\n",
    "\n",
    "def dfEncoder(data_df, label_mapping_file=\"label_mapping.json\"):\n",
    "    # Load the label encoding mapping from the JSON file\n",
    "    with open(label_mapping_file, 'r') as mapping_file:\n",
    "        label_mapping = json.load(mapping_file)\n",
    "    \n",
    "    # Create a new DataFrame to store the encoded data\n",
    "    encoded_data_df = pd.DataFrame()\n",
    "    \n",
    "    for column in data_df.columns:\n",
    "        if column not in label_mapping:\n",
    "            encoded_data_df[column] = data_df[column]\n",
    "\n",
    "    # Iterate over the columns of the input DataFrame\n",
    "    for column in data_df.columns:\n",
    "        if column in label_mapping:\n",
    "            # Create a label encoder and set the classes using the label mapping\n",
    "            label_encoder = LabelEncoder()\n",
    "            label_encoder.classes_ = np.append(list(label_mapping[column].values()), len(label_mapping[column].values()))\n",
    "\n",
    "            # Apply the label encoding to the selected column\n",
    "            encoded_column = data_df[column].astype(str).fillna(data_df[column].mode()[0]).map(label_mapping[column]).fillna(len(label_mapping[column]))\n",
    "            encoded_data_df[column+'_n'] = encoded_column\n",
    "            # encoded_data_df[column] = data_df[column] #Was made to test if encoding was working properly or not\n",
    " \n",
    "    return encoded_data_df"
   ]
  },
  {
   "cell_type": "markdown",
   "id": "a34e46bc-d652-4d68-ac1d-d379273d8915",
   "metadata": {},
   "source": [
    "The above functions allow us to process data, where dfFillNaN is used for filling NaN values with median for numeric values and mode for non-numeric values. The dfEncoder processes the data, encoding non-numeric values to meaningful numeric values, which have been stored in label_mapping.json file, which we had prepared beforehand"
   ]
  },
  {
   "cell_type": "code",
   "execution_count": 4,
   "id": "273c5186-9d04-412c-be33-de1afe2f84dd",
   "metadata": {
    "tags": []
   },
   "outputs": [
    {
     "data": {
      "text/html": [
       "<div>\n",
       "<style scoped>\n",
       "    .dataframe tbody tr th:only-of-type {\n",
       "        vertical-align: middle;\n",
       "    }\n",
       "\n",
       "    .dataframe tbody tr th {\n",
       "        vertical-align: top;\n",
       "    }\n",
       "\n",
       "    .dataframe thead th {\n",
       "        text-align: right;\n",
       "    }\n",
       "</style>\n",
       "<table border=\"1\" class=\"dataframe\">\n",
       "  <thead>\n",
       "    <tr style=\"text-align: right;\">\n",
       "      <th></th>\n",
       "      <th>age</th>\n",
       "      <th>fnlwgt</th>\n",
       "      <th>education-num</th>\n",
       "      <th>capital-gain</th>\n",
       "      <th>capital-loss</th>\n",
       "      <th>hours-per-week</th>\n",
       "      <th>workclass_n</th>\n",
       "      <th>education_n</th>\n",
       "      <th>marital-status_n</th>\n",
       "      <th>occupation_n</th>\n",
       "      <th>relationship_n</th>\n",
       "      <th>race_n</th>\n",
       "      <th>sex_n</th>\n",
       "      <th>native-country_n</th>\n",
       "      <th>class_n</th>\n",
       "    </tr>\n",
       "  </thead>\n",
       "  <tbody>\n",
       "    <tr>\n",
       "      <th>0</th>\n",
       "      <td>39</td>\n",
       "      <td>77516</td>\n",
       "      <td>13</td>\n",
       "      <td>2174</td>\n",
       "      <td>0</td>\n",
       "      <td>40</td>\n",
       "      <td>6</td>\n",
       "      <td>12</td>\n",
       "      <td>4</td>\n",
       "      <td>3</td>\n",
       "      <td>1</td>\n",
       "      <td>4</td>\n",
       "      <td>1</td>\n",
       "      <td>38</td>\n",
       "      <td>0</td>\n",
       "    </tr>\n",
       "    <tr>\n",
       "      <th>1</th>\n",
       "      <td>50</td>\n",
       "      <td>83311</td>\n",
       "      <td>13</td>\n",
       "      <td>0</td>\n",
       "      <td>0</td>\n",
       "      <td>13</td>\n",
       "      <td>2</td>\n",
       "      <td>12</td>\n",
       "      <td>2</td>\n",
       "      <td>12</td>\n",
       "      <td>4</td>\n",
       "      <td>4</td>\n",
       "      <td>1</td>\n",
       "      <td>38</td>\n",
       "      <td>0</td>\n",
       "    </tr>\n",
       "    <tr>\n",
       "      <th>2</th>\n",
       "      <td>38</td>\n",
       "      <td>215646</td>\n",
       "      <td>9</td>\n",
       "      <td>0</td>\n",
       "      <td>0</td>\n",
       "      <td>40</td>\n",
       "      <td>4</td>\n",
       "      <td>13</td>\n",
       "      <td>0</td>\n",
       "      <td>2</td>\n",
       "      <td>1</td>\n",
       "      <td>4</td>\n",
       "      <td>1</td>\n",
       "      <td>38</td>\n",
       "      <td>0</td>\n",
       "    </tr>\n",
       "    <tr>\n",
       "      <th>3</th>\n",
       "      <td>53</td>\n",
       "      <td>234721</td>\n",
       "      <td>7</td>\n",
       "      <td>0</td>\n",
       "      <td>0</td>\n",
       "      <td>40</td>\n",
       "      <td>4</td>\n",
       "      <td>6</td>\n",
       "      <td>2</td>\n",
       "      <td>2</td>\n",
       "      <td>4</td>\n",
       "      <td>2</td>\n",
       "      <td>1</td>\n",
       "      <td>38</td>\n",
       "      <td>0</td>\n",
       "    </tr>\n",
       "    <tr>\n",
       "      <th>4</th>\n",
       "      <td>28</td>\n",
       "      <td>338409</td>\n",
       "      <td>13</td>\n",
       "      <td>0</td>\n",
       "      <td>0</td>\n",
       "      <td>40</td>\n",
       "      <td>4</td>\n",
       "      <td>12</td>\n",
       "      <td>2</td>\n",
       "      <td>13</td>\n",
       "      <td>2</td>\n",
       "      <td>2</td>\n",
       "      <td>0</td>\n",
       "      <td>4</td>\n",
       "      <td>0</td>\n",
       "    </tr>\n",
       "  </tbody>\n",
       "</table>\n",
       "</div>"
      ],
      "text/plain": [
       "   age  fnlwgt  education-num  capital-gain  capital-loss  hours-per-week  \\\n",
       "0   39   77516             13          2174             0              40   \n",
       "1   50   83311             13             0             0              13   \n",
       "2   38  215646              9             0             0              40   \n",
       "3   53  234721              7             0             0              40   \n",
       "4   28  338409             13             0             0              40   \n",
       "\n",
       "   workclass_n  education_n  marital-status_n  occupation_n  relationship_n  \\\n",
       "0            6           12                 4             3               1   \n",
       "1            2           12                 2            12               4   \n",
       "2            4           13                 0             2               1   \n",
       "3            4            6                 2             2               4   \n",
       "4            4           12                 2            13               2   \n",
       "\n",
       "   race_n  sex_n  native-country_n  class_n  \n",
       "0       4      1                38        0  \n",
       "1       4      1                38        0  \n",
       "2       4      1                38        0  \n",
       "3       2      1                38        0  \n",
       "4       2      0                 4        0  "
      ]
     },
     "execution_count": 4,
     "metadata": {},
     "output_type": "execute_result"
    }
   ],
   "source": [
    "train_df = dfEncoder(dfFillNaN(train_df))\n",
    "test_df = dfEncoder(test_df)\n",
    "train_df.head()"
   ]
  },
  {
   "cell_type": "code",
   "execution_count": 5,
   "id": "d267852d-c4a3-4a91-aa0f-45ca94cb0eba",
   "metadata": {
    "tags": []
   },
   "outputs": [
    {
     "data": {
      "text/html": [
       "<div>\n",
       "<style scoped>\n",
       "    .dataframe tbody tr th:only-of-type {\n",
       "        vertical-align: middle;\n",
       "    }\n",
       "\n",
       "    .dataframe tbody tr th {\n",
       "        vertical-align: top;\n",
       "    }\n",
       "\n",
       "    .dataframe thead th {\n",
       "        text-align: right;\n",
       "    }\n",
       "</style>\n",
       "<table border=\"1\" class=\"dataframe\">\n",
       "  <thead>\n",
       "    <tr style=\"text-align: right;\">\n",
       "      <th></th>\n",
       "      <th>age</th>\n",
       "      <th>fnlwgt</th>\n",
       "      <th>education-num</th>\n",
       "      <th>capital-gain</th>\n",
       "      <th>capital-loss</th>\n",
       "      <th>hours-per-week</th>\n",
       "      <th>workclass_n</th>\n",
       "      <th>education_n</th>\n",
       "      <th>marital-status_n</th>\n",
       "      <th>occupation_n</th>\n",
       "      <th>relationship_n</th>\n",
       "      <th>race_n</th>\n",
       "      <th>sex_n</th>\n",
       "      <th>native-country_n</th>\n",
       "      <th>class_n</th>\n",
       "    </tr>\n",
       "  </thead>\n",
       "  <tbody>\n",
       "    <tr>\n",
       "      <th>0</th>\n",
       "      <td>25</td>\n",
       "      <td>226802</td>\n",
       "      <td>7</td>\n",
       "      <td>0</td>\n",
       "      <td>0</td>\n",
       "      <td>40</td>\n",
       "      <td>4.0</td>\n",
       "      <td>6</td>\n",
       "      <td>4</td>\n",
       "      <td>5.0</td>\n",
       "      <td>5</td>\n",
       "      <td>2</td>\n",
       "      <td>1</td>\n",
       "      <td>38.0</td>\n",
       "      <td>0</td>\n",
       "    </tr>\n",
       "    <tr>\n",
       "      <th>1</th>\n",
       "      <td>38</td>\n",
       "      <td>89814</td>\n",
       "      <td>9</td>\n",
       "      <td>0</td>\n",
       "      <td>0</td>\n",
       "      <td>50</td>\n",
       "      <td>4.0</td>\n",
       "      <td>13</td>\n",
       "      <td>2</td>\n",
       "      <td>6.0</td>\n",
       "      <td>4</td>\n",
       "      <td>4</td>\n",
       "      <td>1</td>\n",
       "      <td>38.0</td>\n",
       "      <td>0</td>\n",
       "    </tr>\n",
       "    <tr>\n",
       "      <th>2</th>\n",
       "      <td>28</td>\n",
       "      <td>336951</td>\n",
       "      <td>12</td>\n",
       "      <td>0</td>\n",
       "      <td>0</td>\n",
       "      <td>40</td>\n",
       "      <td>5.0</td>\n",
       "      <td>10</td>\n",
       "      <td>2</td>\n",
       "      <td>11.0</td>\n",
       "      <td>4</td>\n",
       "      <td>4</td>\n",
       "      <td>1</td>\n",
       "      <td>38.0</td>\n",
       "      <td>1</td>\n",
       "    </tr>\n",
       "    <tr>\n",
       "      <th>3</th>\n",
       "      <td>44</td>\n",
       "      <td>160323</td>\n",
       "      <td>10</td>\n",
       "      <td>7688</td>\n",
       "      <td>0</td>\n",
       "      <td>40</td>\n",
       "      <td>4.0</td>\n",
       "      <td>11</td>\n",
       "      <td>2</td>\n",
       "      <td>5.0</td>\n",
       "      <td>4</td>\n",
       "      <td>2</td>\n",
       "      <td>1</td>\n",
       "      <td>38.0</td>\n",
       "      <td>1</td>\n",
       "    </tr>\n",
       "    <tr>\n",
       "      <th>4</th>\n",
       "      <td>18</td>\n",
       "      <td>103497</td>\n",
       "      <td>10</td>\n",
       "      <td>0</td>\n",
       "      <td>0</td>\n",
       "      <td>30</td>\n",
       "      <td>8.0</td>\n",
       "      <td>11</td>\n",
       "      <td>4</td>\n",
       "      <td>14.0</td>\n",
       "      <td>5</td>\n",
       "      <td>4</td>\n",
       "      <td>0</td>\n",
       "      <td>38.0</td>\n",
       "      <td>0</td>\n",
       "    </tr>\n",
       "  </tbody>\n",
       "</table>\n",
       "</div>"
      ],
      "text/plain": [
       "   age  fnlwgt  education-num  capital-gain  capital-loss  hours-per-week  \\\n",
       "0   25  226802              7             0             0              40   \n",
       "1   38   89814              9             0             0              50   \n",
       "2   28  336951             12             0             0              40   \n",
       "3   44  160323             10          7688             0              40   \n",
       "4   18  103497             10             0             0              30   \n",
       "\n",
       "   workclass_n  education_n  marital-status_n  occupation_n  relationship_n  \\\n",
       "0          4.0            6                 4           5.0               5   \n",
       "1          4.0           13                 2           6.0               4   \n",
       "2          5.0           10                 2          11.0               4   \n",
       "3          4.0           11                 2           5.0               4   \n",
       "4          8.0           11                 4          14.0               5   \n",
       "\n",
       "   race_n  sex_n  native-country_n  class_n  \n",
       "0       2      1              38.0        0  \n",
       "1       4      1              38.0        0  \n",
       "2       4      1              38.0        1  \n",
       "3       2      1              38.0        1  \n",
       "4       4      0              38.0        0  "
      ]
     },
     "execution_count": 5,
     "metadata": {},
     "output_type": "execute_result"
    }
   ],
   "source": [
    "test_df.head()"
   ]
  },
  {
   "cell_type": "code",
   "execution_count": 6,
   "id": "29ea580a-c35c-4cb2-819c-c8a2fb7760d5",
   "metadata": {
    "tags": []
   },
   "outputs": [
    {
     "data": {
      "text/plain": [
       "array(['Adm-clerical', 3, 'Exec-managerial', 12, 'Handlers-cleaners', 2,\n",
       "       'Prof-specialty', 13, 'Other-service', 4, 'Sales', 9,\n",
       "       'Craft-repair', 8, 'Transport-moving', 7, 'Farming-fishing', 6,\n",
       "       'Machine-op-inspct', 5, 'Tech-support', 10, 'Protective-serv', 11,\n",
       "       'Armed-Forces', 0, 'Priv-house-serv', 1], dtype=object)"
      ]
     },
     "execution_count": 6,
     "metadata": {},
     "output_type": "execute_result"
    }
   ],
   "source": [
    "pd.unique(train_df[[\"occupation\",\"occupation_n\"]].values.ravel())"
   ]
  },
  {
   "cell_type": "code",
   "execution_count": 7,
   "id": "e882f459-d5f8-414a-a82d-55d410d08348",
   "metadata": {
    "tags": []
   },
   "outputs": [
    {
     "data": {
      "text/plain": [
       "array(['Machine-op-inspct', 5.0, 'Farming-fishing', 6.0,\n",
       "       'Protective-serv', 11.0, nan, 14.0, 'Other-service', 4.0,\n",
       "       'Prof-specialty', 13.0, 'Craft-repair', 8.0, 'Adm-clerical', 3.0,\n",
       "       'Exec-managerial', 12.0, 'Tech-support', 10.0, 'Sales', 9.0,\n",
       "       'Priv-house-serv', 1.0, 'Transport-moving', 7.0,\n",
       "       'Handlers-cleaners', 2.0, 'Armed-Forces', 0.0], dtype=object)"
      ]
     },
     "execution_count": 7,
     "metadata": {},
     "output_type": "execute_result"
    }
   ],
   "source": [
    "pd.unique(test_df[[\"occupation\",\"occupation_n\"]].values.ravel())"
   ]
  },
  {
   "cell_type": "markdown",
   "id": "28669d5d-34f9-405a-816f-b092eefc7262",
   "metadata": {},
   "source": [
    "Above two cells tested that our funtions work correctly, encoding the data for training and testing, allowing us to proceed further"
   ]
  },
  {
   "cell_type": "code",
   "execution_count": 6,
   "id": "9abed0ea-7cff-4253-b20f-e179af2e9b9f",
   "metadata": {
    "tags": []
   },
   "outputs": [],
   "source": [
    "sc = StandardScaler()\n",
    "X_train = train_df.drop(columns=\"class_n\",axis=\"columns\")\n",
    "Y_train = train_df.class_n\n",
    "X_test = test_df.drop(columns=\"class_n\",axis=\"columns\")\n",
    "Y_test = test_df.class_n\n",
    "X_train = sc.fit_transform(X_train)\n",
    "X_test = sc.transform(X_test)"
   ]
  },
  {
   "cell_type": "markdown",
   "id": "c1c33884-dfa1-4ca0-9797-7eb4b004a670",
   "metadata": {},
   "source": [
    "The Standard Scaler Scales the data for X_train, and uses the same scaling to scale X_test, that's why we fit sc to training data, and directly transform testing data.\n",
    "With this, we have correctly preprocessed the data and can now move to training this data on different models."
   ]
  },
  {
   "cell_type": "code",
   "execution_count": 7,
   "id": "2f744c38-ce25-45dd-8106-928403f20c6c",
   "metadata": {
    "tags": []
   },
   "outputs": [
    {
     "data": {
      "text/plain": [
       "(array([ 0.03067056, -1.06361075,  1.13473876,  0.1484529 , -0.21665953,\n",
       "        -0.03542945,  2.13703018,  0.344423  ,  0.92163395, -1.35898941,\n",
       "        -1.34525764,  0.38419018,  0.70307135,  0.26136999]),\n",
       " (32561, 14),\n",
       " array([-0.99570562,  0.35077413, -1.19745882, -0.14592048, -0.21665953,\n",
       "        -0.03542945, -0.04356366, -1.74846817,  0.92163395, -0.82418415,\n",
       "         1.25702568, -2.30489334,  0.70307135,  0.26136999]),\n",
       " (16281, 14))"
      ]
     },
     "execution_count": 7,
     "metadata": {},
     "output_type": "execute_result"
    }
   ],
   "source": [
    "X_train[0], X_train.shape, X_test[0], X_test.shape"
   ]
  },
  {
   "cell_type": "markdown",
   "id": "5c411af1-3df8-4d2a-9ab4-588307e8adbe",
   "metadata": {},
   "source": [
    "## Naive Bayes Classifier\n",
    "For this classifier, we will use GaussianNB from sklearn library, which assumes the data to be in normal distribution, as we have studied in class."
   ]
  },
  {
   "cell_type": "code",
   "execution_count": 47,
   "id": "55b8754b-61c8-4888-b84d-e0e4a30e973d",
   "metadata": {
    "tags": []
   },
   "outputs": [
    {
     "data": {
      "text/html": [
       "<style>#sk-container-id-1 {color: black;background-color: white;}#sk-container-id-1 pre{padding: 0;}#sk-container-id-1 div.sk-toggleable {background-color: white;}#sk-container-id-1 label.sk-toggleable__label {cursor: pointer;display: block;width: 100%;margin-bottom: 0;padding: 0.3em;box-sizing: border-box;text-align: center;}#sk-container-id-1 label.sk-toggleable__label-arrow:before {content: \"▸\";float: left;margin-right: 0.25em;color: #696969;}#sk-container-id-1 label.sk-toggleable__label-arrow:hover:before {color: black;}#sk-container-id-1 div.sk-estimator:hover label.sk-toggleable__label-arrow:before {color: black;}#sk-container-id-1 div.sk-toggleable__content {max-height: 0;max-width: 0;overflow: hidden;text-align: left;background-color: #f0f8ff;}#sk-container-id-1 div.sk-toggleable__content pre {margin: 0.2em;color: black;border-radius: 0.25em;background-color: #f0f8ff;}#sk-container-id-1 input.sk-toggleable__control:checked~div.sk-toggleable__content {max-height: 200px;max-width: 100%;overflow: auto;}#sk-container-id-1 input.sk-toggleable__control:checked~label.sk-toggleable__label-arrow:before {content: \"▾\";}#sk-container-id-1 div.sk-estimator input.sk-toggleable__control:checked~label.sk-toggleable__label {background-color: #d4ebff;}#sk-container-id-1 div.sk-label input.sk-toggleable__control:checked~label.sk-toggleable__label {background-color: #d4ebff;}#sk-container-id-1 input.sk-hidden--visually {border: 0;clip: rect(1px 1px 1px 1px);clip: rect(1px, 1px, 1px, 1px);height: 1px;margin: -1px;overflow: hidden;padding: 0;position: absolute;width: 1px;}#sk-container-id-1 div.sk-estimator {font-family: monospace;background-color: #f0f8ff;border: 1px dotted black;border-radius: 0.25em;box-sizing: border-box;margin-bottom: 0.5em;}#sk-container-id-1 div.sk-estimator:hover {background-color: #d4ebff;}#sk-container-id-1 div.sk-parallel-item::after {content: \"\";width: 100%;border-bottom: 1px solid gray;flex-grow: 1;}#sk-container-id-1 div.sk-label:hover label.sk-toggleable__label {background-color: #d4ebff;}#sk-container-id-1 div.sk-serial::before {content: \"\";position: absolute;border-left: 1px solid gray;box-sizing: border-box;top: 0;bottom: 0;left: 50%;z-index: 0;}#sk-container-id-1 div.sk-serial {display: flex;flex-direction: column;align-items: center;background-color: white;padding-right: 0.2em;padding-left: 0.2em;position: relative;}#sk-container-id-1 div.sk-item {position: relative;z-index: 1;}#sk-container-id-1 div.sk-parallel {display: flex;align-items: stretch;justify-content: center;background-color: white;position: relative;}#sk-container-id-1 div.sk-item::before, #sk-container-id-1 div.sk-parallel-item::before {content: \"\";position: absolute;border-left: 1px solid gray;box-sizing: border-box;top: 0;bottom: 0;left: 50%;z-index: -1;}#sk-container-id-1 div.sk-parallel-item {display: flex;flex-direction: column;z-index: 1;position: relative;background-color: white;}#sk-container-id-1 div.sk-parallel-item:first-child::after {align-self: flex-end;width: 50%;}#sk-container-id-1 div.sk-parallel-item:last-child::after {align-self: flex-start;width: 50%;}#sk-container-id-1 div.sk-parallel-item:only-child::after {width: 0;}#sk-container-id-1 div.sk-dashed-wrapped {border: 1px dashed gray;margin: 0 0.4em 0.5em 0.4em;box-sizing: border-box;padding-bottom: 0.4em;background-color: white;}#sk-container-id-1 div.sk-label label {font-family: monospace;font-weight: bold;display: inline-block;line-height: 1.2em;}#sk-container-id-1 div.sk-label-container {text-align: center;}#sk-container-id-1 div.sk-container {/* jupyter's `normalize.less` sets `[hidden] { display: none; }` but bootstrap.min.css set `[hidden] { display: none !important; }` so we also need the `!important` here to be able to override the default hidden behavior on the sphinx rendered scikit-learn.org. See: https://github.com/scikit-learn/scikit-learn/issues/21755 */display: inline-block !important;position: relative;}#sk-container-id-1 div.sk-text-repr-fallback {display: none;}</style><div id=\"sk-container-id-1\" class=\"sk-top-container\"><div class=\"sk-text-repr-fallback\"><pre>GaussianNB()</pre><b>In a Jupyter environment, please rerun this cell to show the HTML representation or trust the notebook. <br />On GitHub, the HTML representation is unable to render, please try loading this page with nbviewer.org.</b></div><div class=\"sk-container\" hidden><div class=\"sk-item\"><div class=\"sk-estimator sk-toggleable\"><input class=\"sk-toggleable__control sk-hidden--visually\" id=\"sk-estimator-id-1\" type=\"checkbox\" checked><label for=\"sk-estimator-id-1\" class=\"sk-toggleable__label sk-toggleable__label-arrow\">GaussianNB</label><div class=\"sk-toggleable__content\"><pre>GaussianNB()</pre></div></div></div></div></div>"
      ],
      "text/plain": [
       "GaussianNB()"
      ]
     },
     "execution_count": 47,
     "metadata": {},
     "output_type": "execute_result"
    }
   ],
   "source": [
    "naiveGauss = GaussianNB()\n",
    "X_train_nb, Y_train_nb, X_test_nb, Y_test_nb = X_train.copy(), Y_train.copy(), X_test.copy(), Y_test.copy()\n",
    "naiveGauss.fit(X_train_nb, Y_train_nb)"
   ]
  },
  {
   "cell_type": "code",
   "execution_count": 88,
   "id": "b835e934-c9e2-4a84-843e-32fad6e12f29",
   "metadata": {
    "tags": []
   },
   "outputs": [],
   "source": [
    "Y_pred_nb = naiveGauss.predict(X_test_nb)\n",
    "cm_nb = confusion_matrix(Y_test_nb, Y_pred_nb)"
   ]
  },
  {
   "cell_type": "code",
   "execution_count": 64,
   "id": "4515f522-ffe2-4ab3-b5eb-8f1dcf65efc1",
   "metadata": {
    "tags": []
   },
   "outputs": [
    {
     "data": {
      "text/plain": [
       "0.8192008844937195"
      ]
     },
     "execution_count": 64,
     "metadata": {},
     "output_type": "execute_result"
    }
   ],
   "source": [
    "naiveGauss.score(X_train_nb, Y_train_nb)"
   ]
  },
  {
   "cell_type": "code",
   "execution_count": 52,
   "id": "98ab908a-8d3d-456c-9e79-712cb505b8c3",
   "metadata": {
    "tags": []
   },
   "outputs": [
    {
     "data": {
      "text/plain": [
       "0.8161046618758061"
      ]
     },
     "execution_count": 52,
     "metadata": {},
     "output_type": "execute_result"
    }
   ],
   "source": [
    "naiveGauss.score(X_test_nb, Y_test_nb)"
   ]
  },
  {
   "cell_type": "code",
   "execution_count": 89,
   "id": "5714b2be-7903-44d9-91e5-45d8ad28cefb",
   "metadata": {
    "tags": []
   },
   "outputs": [
    {
     "data": {
      "text/plain": [
       "(array([0.5, 1.5]), [Text(0.5, 0, '<50K'), Text(1.5, 0, '>=50K')])"
      ]
     },
     "execution_count": 89,
     "metadata": {},
     "output_type": "execute_result"
    },
    {
     "data": {
      "image/png": "[encoded data removed]",
      "text/plain": [
       "<Figure size 640x480 with 1 Axes>"
      ]
     },
     "metadata": {},
     "output_type": "display_data"
    }
   ],
   "source": [
    "class_labels = ['<50K', '>=50K']\n",
    "fig_nb, ax_nb = plt.subplots()\n",
    "\n",
    "# Create a heatmap using seaborn\n",
    "heatmap = sns.heatmap(cm, annot=True, fmt='d', cmap='Blues', cbar=False, ax=ax_nb)\n",
    "\n",
    "ax_nb.set_xlabel('Predicted')\n",
    "ax_nb.set_ylabel('True')\n",
    "ax_nb.set_title('Confusion Matrix')\n",
    "ax_nb.xaxis.set_ticklabels(class_labels)\n",
    "ax_nb.yaxis.set_ticklabels(class_labels)\n",
    "fig_nb.savefig('CM_Naive.png')\n",
    "plt.xticks(rotation=45)"
   ]
  },
  {
   "cell_type": "code",
   "execution_count": 80,
   "id": "440d58cc-5348-46fd-9a7f-22397a7d42c1",
   "metadata": {
    "tags": []
   },
   "outputs": [],
   "source": [
    "with open('gnb_model.pkl', 'wb') as file:\n",
    "    pickle.dump(naiveGauss, file)"
   ]
  },
  {
   "cell_type": "code",
   "execution_count": 81,
   "id": "1e08633b-4a53-4450-b702-678ef698dc30",
   "metadata": {
    "tags": []
   },
   "outputs": [],
   "source": [
    "with open('gnb_model.pkl', 'rb') as file:\n",
    "    naiveGauss = pickle.load(file)"
   ]
  },
  {
   "cell_type": "code",
   "execution_count": null,
   "id": "e8a24e9e-a58e-4b11-a719-7fd05d6e5936",
   "metadata": {},
   "outputs": [],
   "source": [
    "X_train_nb, Y_train_nb, X_test_nb, Y_test_nb = None, None, None, None"
   ]
  },
  {
   "cell_type": "markdown",
   "id": "01121253-13be-4506-b71b-13aa68ef0c34",
   "metadata": {},
   "source": [
    "Saved model, so easy to retrieve results, and derefernced the arrays to save memory"
   ]
  },
  {
   "cell_type": "markdown",
   "id": "c4a46561-677e-45f9-b279-ff9b79bbd4b1",
   "metadata": {},
   "source": [
    "## Logistic Regression Classifier"
   ]
  },
  {
   "cell_type": "code",
   "execution_count": 86,
   "id": "89eced42-ddaa-4755-9788-5b6580125800",
   "metadata": {
    "tags": []
   },
   "outputs": [
    {
     "data": {
      "text/html": [
       "<style>#sk-container-id-3 {color: black;background-color: white;}#sk-container-id-3 pre{padding: 0;}#sk-container-id-3 div.sk-toggleable {background-color: white;}#sk-container-id-3 label.sk-toggleable__label {cursor: pointer;display: block;width: 100%;margin-bottom: 0;padding: 0.3em;box-sizing: border-box;text-align: center;}#sk-container-id-3 label.sk-toggleable__label-arrow:before {content: \"▸\";float: left;margin-right: 0.25em;color: #696969;}#sk-container-id-3 label.sk-toggleable__label-arrow:hover:before {color: black;}#sk-container-id-3 div.sk-estimator:hover label.sk-toggleable__label-arrow:before {color: black;}#sk-container-id-3 div.sk-toggleable__content {max-height: 0;max-width: 0;overflow: hidden;text-align: left;background-color: #f0f8ff;}#sk-container-id-3 div.sk-toggleable__content pre {margin: 0.2em;color: black;border-radius: 0.25em;background-color: #f0f8ff;}#sk-container-id-3 input.sk-toggleable__control:checked~div.sk-toggleable__content {max-height: 200px;max-width: 100%;overflow: auto;}#sk-container-id-3 input.sk-toggleable__control:checked~label.sk-toggleable__label-arrow:before {content: \"▾\";}#sk-container-id-3 div.sk-estimator input.sk-toggleable__control:checked~label.sk-toggleable__label {background-color: #d4ebff;}#sk-container-id-3 div.sk-label input.sk-toggleable__control:checked~label.sk-toggleable__label {background-color: #d4ebff;}#sk-container-id-3 input.sk-hidden--visually {border: 0;clip: rect(1px 1px 1px 1px);clip: rect(1px, 1px, 1px, 1px);height: 1px;margin: -1px;overflow: hidden;padding: 0;position: absolute;width: 1px;}#sk-container-id-3 div.sk-estimator {font-family: monospace;background-color: #f0f8ff;border: 1px dotted black;border-radius: 0.25em;box-sizing: border-box;margin-bottom: 0.5em;}#sk-container-id-3 div.sk-estimator:hover {background-color: #d4ebff;}#sk-container-id-3 div.sk-parallel-item::after {content: \"\";width: 100%;border-bottom: 1px solid gray;flex-grow: 1;}#sk-container-id-3 div.sk-label:hover label.sk-toggleable__label {background-color: #d4ebff;}#sk-container-id-3 div.sk-serial::before {content: \"\";position: absolute;border-left: 1px solid gray;box-sizing: border-box;top: 0;bottom: 0;left: 50%;z-index: 0;}#sk-container-id-3 div.sk-serial {display: flex;flex-direction: column;align-items: center;background-color: white;padding-right: 0.2em;padding-left: 0.2em;position: relative;}#sk-container-id-3 div.sk-item {position: relative;z-index: 1;}#sk-container-id-3 div.sk-parallel {display: flex;align-items: stretch;justify-content: center;background-color: white;position: relative;}#sk-container-id-3 div.sk-item::before, #sk-container-id-3 div.sk-parallel-item::before {content: \"\";position: absolute;border-left: 1px solid gray;box-sizing: border-box;top: 0;bottom: 0;left: 50%;z-index: -1;}#sk-container-id-3 div.sk-parallel-item {display: flex;flex-direction: column;z-index: 1;position: relative;background-color: white;}#sk-container-id-3 div.sk-parallel-item:first-child::after {align-self: flex-end;width: 50%;}#sk-container-id-3 div.sk-parallel-item:last-child::after {align-self: flex-start;width: 50%;}#sk-container-id-3 div.sk-parallel-item:only-child::after {width: 0;}#sk-container-id-3 div.sk-dashed-wrapped {border: 1px dashed gray;margin: 0 0.4em 0.5em 0.4em;box-sizing: border-box;padding-bottom: 0.4em;background-color: white;}#sk-container-id-3 div.sk-label label {font-family: monospace;font-weight: bold;display: inline-block;line-height: 1.2em;}#sk-container-id-3 div.sk-label-container {text-align: center;}#sk-container-id-3 div.sk-container {/* jupyter's `normalize.less` sets `[hidden] { display: none; }` but bootstrap.min.css set `[hidden] { display: none !important; }` so we also need the `!important` here to be able to override the default hidden behavior on the sphinx rendered scikit-learn.org. See: https://github.com/scikit-learn/scikit-learn/issues/21755 */display: inline-block !important;position: relative;}#sk-container-id-3 div.sk-text-repr-fallback {display: none;}</style><div id=\"sk-container-id-3\" class=\"sk-top-container\"><div class=\"sk-text-repr-fallback\"><pre>LogisticRegression(max_iter=500, multi_class=&#x27;ovr&#x27;, n_jobs=4, penalty=None,\n",
       "                   random_state=0)</pre><b>In a Jupyter environment, please rerun this cell to show the HTML representation or trust the notebook. <br />On GitHub, the HTML representation is unable to render, please try loading this page with nbviewer.org.</b></div><div class=\"sk-container\" hidden><div class=\"sk-item\"><div class=\"sk-estimator sk-toggleable\"><input class=\"sk-toggleable__control sk-hidden--visually\" id=\"sk-estimator-id-3\" type=\"checkbox\" checked><label for=\"sk-estimator-id-3\" class=\"sk-toggleable__label sk-toggleable__label-arrow\">LogisticRegression</label><div class=\"sk-toggleable__content\"><pre>LogisticRegression(max_iter=500, multi_class=&#x27;ovr&#x27;, n_jobs=4, penalty=None,\n",
       "                   random_state=0)</pre></div></div></div></div></div>"
      ],
      "text/plain": [
       "LogisticRegression(max_iter=500, multi_class='ovr', n_jobs=4, penalty=None,\n",
       "                   random_state=0)"
      ]
     },
     "execution_count": 86,
     "metadata": {},
     "output_type": "execute_result"
    }
   ],
   "source": [
    "logReg = LogisticRegression(penalty=None, random_state=0,max_iter=500, multi_class='ovr',n_jobs=4)\n",
    "X_train_lr, Y_train_lr, X_test_lr, Y_test_lr = X_train.copy(), Y_train.copy(), X_test.copy(), Y_test.copy()\n",
    "logReg.fit(X_train_lr, Y_train_lr)"
   ]
  },
  {
   "cell_type": "code",
   "execution_count": 87,
   "id": "7563adac-a4d6-4491-950a-c94c62cd5609",
   "metadata": {
    "tags": []
   },
   "outputs": [
    {
     "data": {
      "text/plain": [
       "(array([0.5, 1.5]), [Text(0.5, 0, '<50K'), Text(1.5, 0, '>=50K')])"
      ]
     },
     "execution_count": 87,
     "metadata": {},
     "output_type": "execute_result"
    },
    {
     "data": {
      "image/png": "[encoded data removed]",
      "text/plain": [
       "<Figure size 640x480 with 1 Axes>"
      ]
     },
     "metadata": {},
     "output_type": "display_data"
    }
   ],
   "source": [
    "Y_pred_lr = logReg.predict(X_test_lr)\n",
    "cm_lr = confusion_matrix(Y_test_lr, Y_pred_lr)\n",
    "class_labels = ['<50K', '>=50K']\n",
    "fig_lr, ax_lr = plt.subplots()\n",
    "\n",
    "# Create a heatmap using seaborn\n",
    "heatmap = sns.heatmap(cm_lr, annot=True, fmt='d', cmap='Blues', cbar=False, ax=ax_lr)\n",
    "\n",
    "ax_lr.set_xlabel('Predicted')\n",
    "ax_lr.set_ylabel('True')\n",
    "ax_lr.set_title('Confusion Matrix - Logistic Regression')\n",
    "ax_lr.xaxis.set_ticklabels(class_labels)\n",
    "ax_lr.yaxis.set_ticklabels(class_labels)\n",
    "fig_lr.savefig('CM_Logistic.png')\n",
    "plt.xticks(rotation=45)"
   ]
  },
  {
   "cell_type": "code",
   "execution_count": 96,
   "id": "832f4f83-a2eb-4df6-881d-0a6c26ff110b",
   "metadata": {
    "tags": []
   },
   "outputs": [
    {
     "data": {
      "text/plain": [
       "0.8327139829857806"
      ]
     },
     "execution_count": 96,
     "metadata": {},
     "output_type": "execute_result"
    }
   ],
   "source": [
    "logReg.score(X_train_lr, Y_train_lr)"
   ]
  },
  {
   "cell_type": "code",
   "execution_count": 95,
   "id": "1832b9a6-a9f1-4f99-af74-865e22fc7085",
   "metadata": {
    "tags": []
   },
   "outputs": [
    {
     "data": {
      "text/plain": [
       "0.8300472943922363"
      ]
     },
     "execution_count": 95,
     "metadata": {},
     "output_type": "execute_result"
    }
   ],
   "source": [
    "logReg.score(X_test_lr, Y_test_lr)"
   ]
  },
  {
   "cell_type": "code",
   "execution_count": 92,
   "id": "014d1ed8-92ab-4e5c-925b-e2dd0fae7ef5",
   "metadata": {
    "tags": []
   },
   "outputs": [],
   "source": [
    "with open('lr_model.pkl','wb') as file:\n",
    "    pickle.dump(logReg, file)"
   ]
  },
  {
   "cell_type": "code",
   "execution_count": 93,
   "id": "770da13e-c545-4d78-8891-708ee507243b",
   "metadata": {
    "tags": []
   },
   "outputs": [],
   "source": [
    "with open('lr_model.pkl', 'rb') as file:\n",
    "    logReg = pickle.load(file)"
   ]
  },
  {
   "cell_type": "code",
   "execution_count": 122,
   "id": "a8b20b5f-a40e-4bcc-9b82-263a849c5e47",
   "metadata": {
    "tags": []
   },
   "outputs": [
    {
     "data": {
      "image/png": "[encoded data removed]",
      "text/plain": [
       "<Figure size 640x480 with 1 Axes>"
      ]
     },
     "metadata": {},
     "output_type": "display_data"
    }
   ],
   "source": [
    "cw = logReg.coef_[0]\n",
    "cw0 = logReg.intercept_[0]\n",
    "feature_importance_lr = pd.DataFrame(train_df.drop(columns='class_n', axis='columns').columns, columns = [\"attribute\"])\n",
    "feature_importance_lr[\"importance\"] = pow(math.e, cw)\n",
    "\n",
    "bias_row = pd.DataFrame({'attribute':['bias'], \n",
    "                         'importance':[abs(cw0)]}, index=[0])\n",
    "feature_importance_lr = pd.concat([feature_importance_lr, bias_row], ignore_index=True)\n",
    "feature_importance_lr = feature_importance_lr.sort_values(by = [\"importance\"], ascending=False)\n",
    "\n",
    "fig_lrfi, ax_lrfi = plt.subplots()\n",
    "ax_lrfi.barh(feature_importance_lr.attribute, feature_importance_lr.importance)\n",
    "ax_lrfi.invert_yaxis()\n",
    "fig_lrfi.savefig('Logistic_FI.png')"
   ]
  },
  {
   "cell_type": "markdown",
   "id": "88a0d63f-f08a-4f04-ab8f-df7461eff414",
   "metadata": {},
   "source": [
    "Equation of the Logistic Regression:\n",
    "$$ y = 0.00591408x_{14} + 0.37565091x_{13} + 0.13533394x_{12} + 0.42481656x_{11} + 0.3455405x_{10} - 0.3532019x_{9} + 0.02593252x_8 + 0.10430457x_7 + 0.40112813x_6 + 0.27644223x_5 + 2.36383934x_4 + 0.73036156x_3 + 0.0653556x_2 + 0.48746454x - 1.5406325451872802 $$\n",
    "where x represent as follows: 14:age, 13:fnlwgt, 12:education-num, 11:capital-gain, 10:capital-loss, 9:hours-per-week, 8:workclass_n, 7:education_n, 6:marital-status_n, 5:occupation_n, 4:relationship_n, 3:race_n, 2:sex_n, 1:native-country_n, 0:bias"
   ]
  },
  {
   "cell_type": "code",
   "execution_count": null,
   "id": "02a277f0-8783-4724-94ac-0523b3b02dbc",
   "metadata": {},
   "outputs": [],
   "source": [
    "X_train_lr, Y_train_lr, X_test_lr, Y_test_lr = None, None, None, None\n",
    "#Emptying arrays to save memory"
   ]
  },
  {
   "cell_type": "markdown",
   "id": "00b6c68e-942c-4ecb-a8b9-408d56978b53",
   "metadata": {},
   "source": [
    "## Neural Network with 1 Hidden Layer"
   ]
  },
  {
   "cell_type": "code",
   "execution_count": 8,
   "id": "8e34017d-c798-4a77-9ed7-2300ad7b8c82",
   "metadata": {
    "tags": []
   },
   "outputs": [
    {
     "data": {
      "text/plain": [
       "((32561, 14), (32561,))"
      ]
     },
     "execution_count": 8,
     "metadata": {},
     "output_type": "execute_result"
    }
   ],
   "source": [
    "X_train_nn1, Y_train_nn1, X_test_nn1, Y_test_nn1 = X_train.copy(), Y_train.copy(), X_test.copy(), Y_test.copy()\n",
    "X_train_nn1.shape, Y_train_nn1.shape"
   ]
  },
  {
   "cell_type": "code",
   "execution_count": 9,
   "id": "8701fbc5-cf68-4d2e-9c2d-3b03a9bcfab7",
   "metadata": {
    "tags": []
   },
   "outputs": [
    {
     "data": {
      "text/plain": [
       "(tensor([[ 0.0307, -1.0636,  1.1347,  0.1485, -0.2167, -0.0354,  2.1370,  0.3444,\n",
       "           0.9216, -1.3590, -1.3453,  0.3842,  0.7031,  0.2614],\n",
       "         [ 0.8371, -1.0087,  1.1347, -0.1459, -0.2167, -2.2222, -2.2242,  0.3444,\n",
       "          -0.4062,  1.0476,  0.6065,  0.3842,  0.7031,  0.2614],\n",
       "         [-0.0426,  0.2451, -0.4201, -0.1459, -0.2167, -0.0354, -0.0436,  0.6932,\n",
       "          -1.7341, -1.6264, -1.3453,  0.3842,  0.7031,  0.2614],\n",
       "         [ 1.0570,  0.4258, -1.1975, -0.1459, -0.2167, -0.0354, -0.0436, -1.7485,\n",
       "          -0.4062, -1.6264,  0.6065, -2.3049,  0.7031,  0.2614],\n",
       "         [-0.7758,  1.4082,  1.1347, -0.1459, -0.2167, -0.0354, -0.0436,  0.3444,\n",
       "          -0.4062,  1.3150, -0.6947, -2.3049, -1.4223, -5.3529]]),\n",
       " tensor([0., 0., 0., 0., 0.]))"
      ]
     },
     "execution_count": 9,
     "metadata": {},
     "output_type": "execute_result"
    }
   ],
   "source": [
    "X_train_nn1 = torch.from_numpy(X_train_nn1).type(torch.float32)\n",
    "Y_train_nn1 = torch.from_numpy(Y_train_nn1.to_numpy()).type(torch.float32)\n",
    "X_test_nn1 = torch.from_numpy(X_test_nn1).type(torch.float32)\n",
    "Y_test_nn1 = torch.from_numpy(Y_test_nn1.to_numpy()).type(torch.float32)\n",
    "X_train_nn1[:5],Y_train_nn1[:5]"
   ]
  },
  {
   "cell_type": "code",
   "execution_count": 10,
   "id": "4c9c1e61-07b0-4371-a0a7-3a1413dec3db",
   "metadata": {
    "tags": []
   },
   "outputs": [
    {
     "data": {
      "text/plain": [
       "(torch.Size([8140, 14]), torch.Size([8141, 14]))"
      ]
     },
     "execution_count": 10,
     "metadata": {},
     "output_type": "execute_result"
    }
   ],
   "source": [
    "X_test_nn1, X_valid_nn1, Y_test_nn1, Y_valid_nn1 = train_test_split(X_test_nn1, Y_test_nn1, train_size=0.5, random_state=10)\n",
    "X_test_nn1.shape, X_valid_nn1.shape"
   ]
  },
  {
   "cell_type": "code",
   "execution_count": 18,
   "id": "9c32323b-989a-40cf-9372-f33109ea2f99",
   "metadata": {
    "tags": []
   },
   "outputs": [],
   "source": [
    "model_nn1 = nn.Sequential(nn.Linear(in_features=14, out_features=10),#Input Layer to Hidden Layer\n",
    "                          nn.Sigmoid(),#Non-Linear Function\n",
    "                          nn.Linear(in_features=10, out_features=1))#Hidden Layer to Output Layer"
   ]
  },
  {
   "cell_type": "code",
   "execution_count": 19,
   "id": "4e3c88a5-6e25-4567-8109-a8394c0404f2",
   "metadata": {
    "tags": []
   },
   "outputs": [],
   "source": [
    "loss_nn1 = nn.BCEWithLogitsLoss()#Non-Linear Function to get probability of class inclusive here\n",
    "grad_nn1 = torch.optim.SGD(model_nn1.parameters(), lr=0.001)"
   ]
  },
  {
   "cell_type": "code",
   "execution_count": 5,
   "id": "883f734c-5f30-43a7-a003-41a69d34b60a",
   "metadata": {
    "tags": []
   },
   "outputs": [],
   "source": [
    "def accuracy_fn(y_true, y_pred):\n",
    "    correct = torch.eq(y_true, y_pred).sum().item() # torch.eq() calculates where two tensors are equal\n",
    "    acc = (correct / len(y_pred)) * 100 \n",
    "    return acc"
   ]
  },
  {
   "cell_type": "code",
   "execution_count": 20,
   "id": "52f746cf-6c83-4e40-8944-7026c5832d91",
   "metadata": {
    "tags": []
   },
   "outputs": [
    {
     "name": "stdout",
     "output_type": "stream",
     "text": [
      "Epoch: 0 | Loss: 0.791131854057312, Accuracy: 24.08% | Test Loss: 0.7924141883850098, Test Accuracy: 24.05%\n",
      "Epoch: 500 | Loss: 0.6611313223838806, Accuracy: 73.24% | Test Loss: 0.6628499627113342, Test Accuracy: 71.66%\n",
      "Epoch: 1000 | Loss: 0.606642484664917, Accuracy: 75.92% | Test Loss: 0.6084097623825073, Test Accuracy: 75.95%\n",
      "Epoch: 1500 | Loss: 0.5822102427482605, Accuracy: 75.92% | Test Loss: 0.5839201807975769, Test Accuracy: 75.95%\n",
      "Epoch: 2000 | Loss: 0.5701276063919067, Accuracy: 75.92% | Test Loss: 0.571763277053833, Test Accuracy: 75.95%\n",
      "Epoch: 2500 | Loss: 0.5633936524391174, Accuracy: 75.92% | Test Loss: 0.5649623870849609, Test Accuracy: 75.95%\n",
      "Epoch: 3000 | Loss: 0.5590925812721252, Accuracy: 75.92% | Test Loss: 0.5606070756912231, Test Accuracy: 75.95%\n",
      "Epoch: 3500 | Loss: 0.5559465289115906, Accuracy: 75.92% | Test Loss: 0.5574185252189636, Test Accuracy: 75.95%\n",
      "Epoch: 4000 | Loss: 0.553370475769043, Accuracy: 75.92% | Test Loss: 0.5548095107078552, Test Accuracy: 75.95%\n",
      "Epoch: 4500 | Loss: 0.5510867238044739, Accuracy: 75.92% | Test Loss: 0.5525004863739014, Test Accuracy: 75.95%\n",
      "Epoch: 5000 | Loss: 0.5489591956138611, Accuracy: 75.92% | Test Loss: 0.5503535866737366, Test Accuracy: 75.95%\n",
      "Epoch: 5500 | Loss: 0.5469191074371338, Accuracy: 75.92% | Test Loss: 0.548298716545105, Test Accuracy: 75.95%\n",
      "Epoch: 6000 | Loss: 0.5449299812316895, Accuracy: 75.92% | Test Loss: 0.5462982058525085, Test Accuracy: 75.95%\n",
      "Epoch: 6500 | Loss: 0.5429714918136597, Accuracy: 75.92% | Test Loss: 0.5443312525749207, Test Accuracy: 75.95%\n",
      "Epoch: 7000 | Loss: 0.5410318970680237, Accuracy: 75.92% | Test Loss: 0.5423851609230042, Test Accuracy: 75.95%\n",
      "Epoch: 7500 | Loss: 0.5391032099723816, Accuracy: 75.92% | Test Loss: 0.54045170545578, Test Accuracy: 75.95%\n",
      "Epoch: 8000 | Loss: 0.5371800661087036, Accuracy: 75.92% | Test Loss: 0.5385251045227051, Test Accuracy: 75.95%\n",
      "Epoch: 8500 | Loss: 0.535258412361145, Accuracy: 75.92% | Test Loss: 0.5366008877754211, Test Accuracy: 75.95%\n",
      "Epoch: 9000 | Loss: 0.5333348512649536, Accuracy: 75.92% | Test Loss: 0.5346757173538208, Test Accuracy: 75.95%\n",
      "Epoch: 9500 | Loss: 0.531406581401825, Accuracy: 75.92% | Test Loss: 0.532746434211731, Test Accuracy: 75.95%\n"
     ]
    }
   ],
   "source": [
    "torch.manual_seed(6)\n",
    "train_loss_values = []\n",
    "test_loss_values = []\n",
    "epoch_count = []\n",
    "train_accuracy_values = []\n",
    "valid_accuracy_values = []\n",
    "for epoch in range(10000):\n",
    "    ## Training    \n",
    "    # Set Training mode\n",
    "    model_nn1.train()\n",
    "    \n",
    "    # Forward Pass\n",
    "    y_pred_nn1logits = model_nn1(X_train_nn1).squeeze()\n",
    "    y_pred_nn1 = torch.round(torch.sigmoid(y_pred_nn1logits))\n",
    "    \n",
    "    # Calculating loss\n",
    "    losstrain = loss_nn1(y_pred_nn1logits, Y_train_nn1)\n",
    "    \n",
    "    epoch_count.append(epoch)\n",
    "    train_loss_values.append(losstrain.item())\n",
    "    train_acc = accuracy_fn(y_true=Y_train_nn1, y_pred=y_pred_nn1)\n",
    "    train_accuracy_values.append(train_acc)\n",
    "    \n",
    "    # Zero Grad of optimizer\n",
    "    grad_nn1.zero_grad()\n",
    "    \n",
    "    # Backward Propogation\n",
    "    losstrain.backward()\n",
    "    \n",
    "    # Progress the optimizer\n",
    "    grad_nn1.step()\n",
    "    \n",
    "    ## Validation\n",
    "    # Setting evaluation mode\n",
    "    model_nn1.eval()\n",
    "    \n",
    "    with torch.inference_mode():\n",
    "        valid_predlogits = model_nn1(X_valid_nn1).squeeze()\n",
    "        valid_pred = torch.round(torch.sigmoid(valid_predlogits))\n",
    "        loss_valid = loss_nn1(valid_predlogits, Y_valid_nn1)\n",
    "        test_loss_values.append(loss_valid.item())\n",
    "        valid_acc = accuracy_fn(y_true=Y_valid_nn1, y_pred=valid_pred)\n",
    "        valid_accuracy_values.append(valid_acc)\n",
    "        \n",
    "    if epoch%500==0:\n",
    "        print(f\"Epoch: {epoch} | Loss: {losstrain.item()}, Accuracy: {train_acc:.2f}% | Test Loss: {loss_valid.item()}, Test Accuracy: {valid_acc:.2f}%\")"
   ]
  },
  {
   "cell_type": "code",
   "execution_count": 28,
   "id": "bf78b6eb-23c7-420c-aced-7aab54b4fb20",
   "metadata": {
    "tags": []
   },
   "outputs": [
    {
     "data": {
      "text/plain": [
       "75.91904425539757"
      ]
     },
     "execution_count": 28,
     "metadata": {},
     "output_type": "execute_result"
    }
   ],
   "source": [
    "model_nn1.eval()\n",
    "with torch.inference_mode():\n",
    "    train_pred = model_nn1(X_train_nn1).squeeze()\n",
    "    \n",
    "train_pred = torch.round(torch.sigmoid(train_pred))\n",
    "train_acc = accuracy_fn(y_true=Y_train_nn1, y_pred=train_pred)\n",
    "train_acc"
   ]
  },
  {
   "cell_type": "code",
   "execution_count": 27,
   "id": "770e95d1-37fd-4ef6-834b-b1c058e97221",
   "metadata": {
    "tags": []
   },
   "outputs": [
    {
     "data": {
      "text/plain": [
       "76.8058968058968"
      ]
     },
     "execution_count": 27,
     "metadata": {},
     "output_type": "execute_result"
    }
   ],
   "source": [
    "model_nn1.eval()\n",
    "with torch.inference_mode():\n",
    "    test_pred = model_nn1(X_test_nn1).squeeze()\n",
    "    \n",
    "test_pred = torch.round(torch.sigmoid(test_pred))\n",
    "test_acc = accuracy_fn(y_true=Y_test_nn1, y_pred=test_pred)\n",
    "test_acc"
   ]
  },
  {
   "cell_type": "code",
   "execution_count": 23,
   "id": "6bf739f3-56ad-4216-bea8-9354228d3075",
   "metadata": {
    "tags": []
   },
   "outputs": [
    {
     "data": {
      "image/png": "[encoded data removed]",
      "text/plain": [
       "<Figure size 640x480 with 1 Axes>"
      ]
     },
     "metadata": {},
     "output_type": "display_data"
    }
   ],
   "source": [
    "plt.plot(epoch_count, train_accuracy_values)\n",
    "plt.plot(epoch_count, valid_accuracy_values)\n",
    "plt.title(\"Model Accuracy\")\n",
    "plt.xlabel(\"Epochs\")\n",
    "plt.ylabel(\"Accuracy\")\n",
    "plt.legend(['Train','Valid'], loc='upper left')\n",
    "plt.savefig('Acc1Hidden.png')"
   ]
  },
  {
   "cell_type": "code",
   "execution_count": 24,
   "id": "51b5adfd-21e7-4a93-a055-2733bd30e250",
   "metadata": {
    "tags": []
   },
   "outputs": [
    {
     "data": {
      "image/png": "[encoded data removed]",
      "text/plain": [
       "<Figure size 640x480 with 1 Axes>"
      ]
     },
     "metadata": {},
     "output_type": "display_data"
    }
   ],
   "source": [
    "plt.plot(epoch_count, train_loss_values)\n",
    "plt.plot(epoch_count, test_loss_values)\n",
    "plt.title(\"Model Loss\")\n",
    "plt.xlabel(\"Epochs\")\n",
    "plt.ylabel(\"Loss\")\n",
    "plt.legend(['Train','Valid'], loc='upper right')\n",
    "plt.savefig('Loss1Hidden.png')"
   ]
  },
  {
   "cell_type": "code",
   "execution_count": 25,
   "id": "814ebe44-225f-4ed8-9ba8-e6a3c7ae4939",
   "metadata": {
    "tags": []
   },
   "outputs": [],
   "source": [
    "torch.save(model_nn1.state_dict(), f=\"NN1.pth\")"
   ]
  },
  {
   "cell_type": "code",
   "execution_count": 26,
   "id": "f13542d1-e15e-44b0-a6a0-d05caa1d6ee6",
   "metadata": {
    "tags": []
   },
   "outputs": [
    {
     "data": {
      "text/plain": [
       "<All keys matched successfully>"
      ]
     },
     "execution_count": 26,
     "metadata": {},
     "output_type": "execute_result"
    }
   ],
   "source": [
    "model_nn1.load_state_dict(torch.load(f='NN1.pth'))"
   ]
  },
  {
   "cell_type": "code",
   "execution_count": 29,
   "id": "7d1a1555-7f99-4d44-9075-6f39252c5355",
   "metadata": {
    "tags": []
   },
   "outputs": [],
   "source": [
    "X_train_nn1, Y_train_nn1, X_test_nn1, X_valid_nn1, Y_test_nn1, Y_valid_nn1 = None, None, None, None, None, None"
   ]
  },
  {
   "cell_type": "markdown",
   "id": "7954ac6d-96ea-4f1c-9074-7e1cbe12ed7b",
   "metadata": {},
   "source": [
    "## Neural Network with 2 Hidden Layer"
   ]
  },
  {
   "cell_type": "code",
   "execution_count": 30,
   "id": "b667143c-c977-4cdc-a55a-1ee4916f1eb2",
   "metadata": {
    "tags": []
   },
   "outputs": [
    {
     "data": {
      "text/plain": [
       "((32561, 14), (32561,))"
      ]
     },
     "execution_count": 30,
     "metadata": {},
     "output_type": "execute_result"
    }
   ],
   "source": [
    "X_train_nn2, Y_train_nn2, X_test_nn2, Y_test_nn2 = X_train.copy(), Y_train.copy(), X_test.copy(), Y_test.copy()\n",
    "X_train_nn2.shape, Y_train_nn2.shape"
   ]
  },
  {
   "cell_type": "code",
   "execution_count": 31,
   "id": "f19e28e0-190a-4641-878b-3e7e867bf709",
   "metadata": {
    "tags": []
   },
   "outputs": [
    {
     "data": {
      "text/plain": [
       "(tensor([[ 0.0307, -1.0636,  1.1347,  0.1485, -0.2167, -0.0354,  2.1370,  0.3444,\n",
       "           0.9216, -1.3590, -1.3453,  0.3842,  0.7031,  0.2614],\n",
       "         [ 0.8371, -1.0087,  1.1347, -0.1459, -0.2167, -2.2222, -2.2242,  0.3444,\n",
       "          -0.4062,  1.0476,  0.6065,  0.3842,  0.7031,  0.2614],\n",
       "         [-0.0426,  0.2451, -0.4201, -0.1459, -0.2167, -0.0354, -0.0436,  0.6932,\n",
       "          -1.7341, -1.6264, -1.3453,  0.3842,  0.7031,  0.2614],\n",
       "         [ 1.0570,  0.4258, -1.1975, -0.1459, -0.2167, -0.0354, -0.0436, -1.7485,\n",
       "          -0.4062, -1.6264,  0.6065, -2.3049,  0.7031,  0.2614],\n",
       "         [-0.7758,  1.4082,  1.1347, -0.1459, -0.2167, -0.0354, -0.0436,  0.3444,\n",
       "          -0.4062,  1.3150, -0.6947, -2.3049, -1.4223, -5.3529]]),\n",
       " tensor([0., 0., 0., 0., 0.]))"
      ]
     },
     "execution_count": 31,
     "metadata": {},
     "output_type": "execute_result"
    }
   ],
   "source": [
    "X_train_nn2 = torch.from_numpy(X_train_nn2).type(torch.float32)\n",
    "Y_train_nn2 = torch.from_numpy(Y_train_nn2.to_numpy()).type(torch.float32)\n",
    "X_test_nn2 = torch.from_numpy(X_test_nn2).type(torch.float32)\n",
    "Y_test_nn2 = torch.from_numpy(Y_test_nn2.to_numpy()).type(torch.float32)\n",
    "X_train_nn2[:5],Y_train_nn2[:5]"
   ]
  },
  {
   "cell_type": "code",
   "execution_count": 32,
   "id": "66fb9e8c-e183-4cd9-83f9-0b3c1344c66c",
   "metadata": {
    "tags": []
   },
   "outputs": [
    {
     "data": {
      "text/plain": [
       "(torch.Size([8140, 14]), torch.Size([8141, 14]))"
      ]
     },
     "execution_count": 32,
     "metadata": {},
     "output_type": "execute_result"
    }
   ],
   "source": [
    "X_test_nn2, X_valid_nn2, Y_test_nn2, Y_valid_nn2 = train_test_split(X_test_nn2, Y_test_nn2, train_size=0.5, random_state=0)\n",
    "X_test_nn2.shape, X_valid_nn2.shape"
   ]
  },
  {
   "cell_type": "code",
   "execution_count": 36,
   "id": "96c96606-8cbf-4cfd-b46a-f035a34c8ff4",
   "metadata": {
    "tags": []
   },
   "outputs": [],
   "source": [
    "model_nn2 = nn.Sequential(nn.Linear(in_features=14, out_features=9),#Input Layer to Hidden Layer\n",
    "                          nn.Sigmoid(),#Non-Linear Function\n",
    "                          nn.Linear(in_features=9, out_features=9),#Hidden Layer to Hidden Layer\n",
    "                          nn.Sigmoid(),#Non-Linear Function\n",
    "                          nn.Linear(in_features=9, out_features=1))#Hidden Layer to Output Layer"
   ]
  },
  {
   "cell_type": "code",
   "execution_count": 37,
   "id": "3e608591-d7e9-4946-a230-27a77cb981f6",
   "metadata": {
    "tags": []
   },
   "outputs": [],
   "source": [
    "loss_nn2 = nn.BCEWithLogitsLoss()#Non-Linear Function to get probability of class inclusive here\n",
    "grad_nn2 = torch.optim.SGD(model_nn2.parameters(), lr=0.001)"
   ]
  },
  {
   "cell_type": "code",
   "execution_count": 38,
   "id": "4e909942-0cae-4ac5-b5f1-1d840a0e5081",
   "metadata": {
    "tags": []
   },
   "outputs": [
    {
     "name": "stdout",
     "output_type": "stream",
     "text": [
      "Epoch: 0 | Loss: 0.8671633005142212, Accuracy: 24.08% | Test Loss: 0.8663463592529297, Test Accuracy: 24.10%\n",
      "Epoch: 500 | Loss: 0.6954934000968933, Accuracy: 35.85% | Test Loss: 0.6951804757118225, Test Accuracy: 37.49%\n",
      "Epoch: 1000 | Loss: 0.6190558075904846, Accuracy: 75.92% | Test Loss: 0.6189910173416138, Test Accuracy: 75.90%\n",
      "Epoch: 1500 | Loss: 0.5843772292137146, Accuracy: 75.92% | Test Loss: 0.5844386219978333, Test Accuracy: 75.90%\n",
      "Epoch: 2000 | Loss: 0.5680569410324097, Accuracy: 75.92% | Test Loss: 0.5681871771812439, Test Accuracy: 75.90%\n",
      "Epoch: 2500 | Loss: 0.5601016879081726, Accuracy: 75.92% | Test Loss: 0.5602722764015198, Test Accuracy: 75.90%\n",
      "Epoch: 3000 | Loss: 0.5561074018478394, Accuracy: 75.92% | Test Loss: 0.5563032031059265, Test Accuracy: 75.90%\n",
      "Epoch: 3500 | Loss: 0.5540502071380615, Accuracy: 75.92% | Test Loss: 0.5542625188827515, Test Accuracy: 75.90%\n",
      "Epoch: 4000 | Loss: 0.5529645085334778, Accuracy: 75.92% | Test Loss: 0.5531880259513855, Test Accuracy: 75.90%\n",
      "Epoch: 4500 | Loss: 0.5523753762245178, Accuracy: 75.92% | Test Loss: 0.5526068806648254, Test Accuracy: 75.90%\n",
      "Epoch: 5000 | Loss: 0.5520435571670532, Accuracy: 75.92% | Test Loss: 0.552280843257904, Test Accuracy: 75.90%\n",
      "Epoch: 5500 | Loss: 0.5518463253974915, Accuracy: 75.92% | Test Loss: 0.5520880222320557, Test Accuracy: 75.90%\n",
      "Epoch: 6000 | Loss: 0.5517202615737915, Accuracy: 75.92% | Test Loss: 0.5519653558731079, Test Accuracy: 75.90%\n",
      "Epoch: 6500 | Loss: 0.5516316890716553, Accuracy: 75.92% | Test Loss: 0.5518794059753418, Test Accuracy: 75.90%\n",
      "Epoch: 7000 | Loss: 0.5515631437301636, Accuracy: 75.92% | Test Loss: 0.551813006401062, Test Accuracy: 75.90%\n",
      "Epoch: 7500 | Loss: 0.5515050292015076, Accuracy: 75.92% | Test Loss: 0.551756739616394, Test Accuracy: 75.90%\n",
      "Epoch: 8000 | Loss: 0.5514523983001709, Accuracy: 75.92% | Test Loss: 0.5517057776451111, Test Accuracy: 75.90%\n",
      "Epoch: 8500 | Loss: 0.551402747631073, Accuracy: 75.92% | Test Loss: 0.5516574382781982, Test Accuracy: 75.90%\n",
      "Epoch: 9000 | Loss: 0.5513544082641602, Accuracy: 75.92% | Test Loss: 0.5516104102134705, Test Accuracy: 75.90%\n",
      "Epoch: 9500 | Loss: 0.5513066649436951, Accuracy: 75.92% | Test Loss: 0.5515637993812561, Test Accuracy: 75.90%\n"
     ]
    }
   ],
   "source": [
    "torch.manual_seed(6)\n",
    "train_loss_values2 = []\n",
    "test_loss_values2 = []\n",
    "epoch_count2 = []\n",
    "train_accuracy_values2 = []\n",
    "valid_accuracy_values2 = []\n",
    "for epoch in range(10000):\n",
    "    ## Training    \n",
    "    # Set Training mode\n",
    "    model_nn2.train()\n",
    "    \n",
    "    # Forward Pass\n",
    "    y_pred_nn2logits = model_nn2(X_train_nn2).squeeze()\n",
    "    y_pred_nn2 = torch.round(torch.sigmoid(y_pred_nn2logits))\n",
    "    \n",
    "    # Calculating loss\n",
    "    losstrain = loss_nn2(y_pred_nn2logits, Y_train_nn2)\n",
    "    \n",
    "    epoch_count2.append(epoch)\n",
    "    train_loss_values2.append(losstrain.item())\n",
    "    train_acc = accuracy_fn(y_true=Y_train_nn2, y_pred=y_pred_nn2)\n",
    "    train_accuracy_values2.append(train_acc)\n",
    "    \n",
    "    # Zero Grad of optimizer\n",
    "    grad_nn2.zero_grad()\n",
    "    \n",
    "    # Backward Propogation\n",
    "    losstrain.backward()\n",
    "    \n",
    "    # Progress the optimizer\n",
    "    grad_nn2.step()\n",
    "    \n",
    "    ## Validation\n",
    "    # Setting evaluation mode\n",
    "    model_nn2.eval()\n",
    "    \n",
    "    with torch.inference_mode():\n",
    "        valid_predlogits = model_nn2(X_valid_nn2).squeeze()\n",
    "        valid_pred = torch.round(torch.sigmoid(valid_predlogits))\n",
    "        loss_valid = loss_nn2(valid_predlogits, Y_valid_nn2)\n",
    "        test_loss_values2.append(loss_valid.item())\n",
    "        valid_acc = accuracy_fn(y_true=Y_valid_nn2, y_pred=valid_pred)\n",
    "        valid_accuracy_values2.append(valid_acc)\n",
    "        \n",
    "    if epoch%500==0:\n",
    "        print(f\"Epoch: {epoch} | Loss: {losstrain.item()}, Accuracy: {train_acc:.2f}% | Test Loss: {loss_valid.item()}, Test Accuracy: {valid_acc:.2f}%\")"
   ]
  },
  {
   "cell_type": "code",
   "execution_count": 39,
   "id": "ef820d1a-08de-40e8-8847-6c4054886c9b",
   "metadata": {
    "tags": []
   },
   "outputs": [
    {
     "data": {
      "text/plain": [
       "75.91904425539757"
      ]
     },
     "execution_count": 39,
     "metadata": {},
     "output_type": "execute_result"
    }
   ],
   "source": [
    "model_nn2.eval()\n",
    "with torch.inference_mode():\n",
    "    train_pred = model_nn2(X_train_nn2).squeeze()\n",
    "    \n",
    "train_pred = torch.round(torch.sigmoid(train_pred))\n",
    "train_acc = accuracy_fn(y_true=Y_train_nn2, y_pred=train_pred)\n",
    "train_acc"
   ]
  },
  {
   "cell_type": "code",
   "execution_count": 40,
   "id": "f91bab43-2385-44a5-be81-4de65a625335",
   "metadata": {
    "tags": []
   },
   "outputs": [
    {
     "data": {
      "text/plain": [
       "76.85503685503686"
      ]
     },
     "execution_count": 40,
     "metadata": {},
     "output_type": "execute_result"
    }
   ],
   "source": [
    "model_nn2.eval()\n",
    "with torch.inference_mode():\n",
    "    test_pred = model_nn2(X_test_nn2).squeeze()\n",
    "    \n",
    "test_pred = torch.round(torch.sigmoid(test_pred))\n",
    "test_acc = accuracy_fn(y_true=Y_test_nn2, y_pred=test_pred)\n",
    "test_acc"
   ]
  },
  {
   "cell_type": "code",
   "execution_count": 41,
   "id": "92898db6-3c3d-411f-a17a-99c4e2091c64",
   "metadata": {
    "tags": []
   },
   "outputs": [
    {
     "data": {
      "image/png": "[encoded data removed]",
      "text/plain": [
       "<Figure size 640x480 with 1 Axes>"
      ]
     },
     "metadata": {},
     "output_type": "display_data"
    }
   ],
   "source": [
    "plt.plot(epoch_count2, train_accuracy_values2)\n",
    "plt.plot(epoch_count2, valid_accuracy_values2)\n",
    "plt.title(\"Model Accuracy\")\n",
    "plt.xlabel(\"Epochs\")\n",
    "plt.ylabel(\"Accuracy\")\n",
    "plt.legend(['Train','Valid'], loc='upper left')\n",
    "plt.savefig('Acc2Hidden.png')"
   ]
  },
  {
   "cell_type": "code",
   "execution_count": 42,
   "id": "deca385f-6353-475a-bb3c-9af29586c29f",
   "metadata": {
    "tags": []
   },
   "outputs": [
    {
     "data": {
      "image/png": "[encoded data removed]",
      "text/plain": [
       "<Figure size 640x480 with 1 Axes>"
      ]
     },
     "metadata": {},
     "output_type": "display_data"
    }
   ],
   "source": [
    "plt.plot(epoch_count2, train_loss_values2)\n",
    "plt.plot(epoch_count2, test_loss_values2)\n",
    "plt.title(\"Model Loss\")\n",
    "plt.xlabel(\"Epochs\")\n",
    "plt.ylabel(\"Loss\")\n",
    "plt.legend(['Train','Valid'], loc='upper right')\n",
    "plt.savefig('Loss2Hidden.png')"
   ]
  },
  {
   "cell_type": "code",
   "execution_count": 43,
   "id": "db33d5ab-c8b8-41f1-852f-350a67bdf7b9",
   "metadata": {
    "tags": []
   },
   "outputs": [],
   "source": [
    "torch.save(model_nn2.state_dict(),f='NN2.pth')"
   ]
  },
  {
   "cell_type": "code",
   "execution_count": 44,
   "id": "9c23a94b-49fa-4366-a9f5-6d6ea3529892",
   "metadata": {
    "tags": []
   },
   "outputs": [
    {
     "data": {
      "text/plain": [
       "<All keys matched successfully>"
      ]
     },
     "execution_count": 44,
     "metadata": {},
     "output_type": "execute_result"
    }
   ],
   "source": [
    "model_nn2.load_state_dict(torch.load(f='NN2.pth'))"
   ]
  },
  {
   "cell_type": "code",
   "execution_count": 45,
   "id": "1403e7df-ca0a-43b1-9be3-a6c4c32bb9e3",
   "metadata": {
    "tags": []
   },
   "outputs": [],
   "source": [
    "X_train_nn2, Y_train_nn2, X_test_nn2, X_valid_nn2, Y_test_nn2, Y_valid_nn2 = None, None, None, None, None, None"
   ]
  },
  {
   "cell_type": "markdown",
   "id": "2e21072b-8646-43f3-adc9-861fc7878d9b",
   "metadata": {
    "tags": []
   },
   "source": [
    "## Neural Network with 3 Hidden Layer"
   ]
  },
  {
   "cell_type": "code",
   "execution_count": 46,
   "id": "c57d78d9-e28f-4b97-a3dc-1edf85caf8f2",
   "metadata": {
    "tags": []
   },
   "outputs": [
    {
     "data": {
      "text/plain": [
       "((32561, 14), (32561,))"
      ]
     },
     "execution_count": 46,
     "metadata": {},
     "output_type": "execute_result"
    }
   ],
   "source": [
    "X_train_nn3, Y_train_nn3, X_test_nn3, Y_test_nn3 = X_train.copy(), Y_train.copy(), X_test.copy(), Y_test.copy()\n",
    "X_train_nn3.shape, Y_train_nn3.shape"
   ]
  },
  {
   "cell_type": "code",
   "execution_count": 47,
   "id": "eb10d4de-b423-40f1-9f8c-a9e0fb6f806f",
   "metadata": {
    "tags": []
   },
   "outputs": [
    {
     "data": {
      "text/plain": [
       "(tensor([[ 0.0307, -1.0636,  1.1347,  0.1485, -0.2167, -0.0354,  2.1370,  0.3444,\n",
       "           0.9216, -1.3590, -1.3453,  0.3842,  0.7031,  0.2614],\n",
       "         [ 0.8371, -1.0087,  1.1347, -0.1459, -0.2167, -2.2222, -2.2242,  0.3444,\n",
       "          -0.4062,  1.0476,  0.6065,  0.3842,  0.7031,  0.2614],\n",
       "         [-0.0426,  0.2451, -0.4201, -0.1459, -0.2167, -0.0354, -0.0436,  0.6932,\n",
       "          -1.7341, -1.6264, -1.3453,  0.3842,  0.7031,  0.2614],\n",
       "         [ 1.0570,  0.4258, -1.1975, -0.1459, -0.2167, -0.0354, -0.0436, -1.7485,\n",
       "          -0.4062, -1.6264,  0.6065, -2.3049,  0.7031,  0.2614],\n",
       "         [-0.7758,  1.4082,  1.1347, -0.1459, -0.2167, -0.0354, -0.0436,  0.3444,\n",
       "          -0.4062,  1.3150, -0.6947, -2.3049, -1.4223, -5.3529]]),\n",
       " tensor([0., 0., 0., 0., 0.]))"
      ]
     },
     "execution_count": 47,
     "metadata": {},
     "output_type": "execute_result"
    }
   ],
   "source": [
    "X_train_nn3 = torch.from_numpy(X_train_nn3).type(torch.float32)\n",
    "Y_train_nn3 = torch.from_numpy(Y_train_nn3.to_numpy()).type(torch.float32)\n",
    "X_test_nn3 = torch.from_numpy(X_test_nn3).type(torch.float32)\n",
    "Y_test_nn3 = torch.from_numpy(Y_test_nn3.to_numpy()).type(torch.float32)\n",
    "X_train_nn3[:5],Y_train_nn3[:5]"
   ]
  },
  {
   "cell_type": "code",
   "execution_count": 48,
   "id": "529dde71-560a-4457-b0b1-6deb32ed7715",
   "metadata": {
    "tags": []
   },
   "outputs": [
    {
     "data": {
      "text/plain": [
       "(torch.Size([8140, 14]), torch.Size([8141, 14]))"
      ]
     },
     "execution_count": 48,
     "metadata": {},
     "output_type": "execute_result"
    }
   ],
   "source": [
    "X_test_nn3, X_valid_nn3, Y_test_nn3, Y_valid_nn3 = train_test_split(X_test_nn3, Y_test_nn3, train_size=0.5, random_state=0)\n",
    "X_test_nn3.shape, X_valid_nn3.shape"
   ]
  },
  {
   "cell_type": "code",
   "execution_count": 49,
   "id": "6c54952a-f50c-470a-967a-d09fdd5cd376",
   "metadata": {
    "tags": []
   },
   "outputs": [],
   "source": [
    "model_nn3 = nn.Sequential(nn.Linear(in_features=14, out_features=9),#Input Layer to Hidden Layer1\n",
    "                          nn.Sigmoid(),#Non-Linear Function\n",
    "                          nn.Linear(in_features=9, out_features=9),#Hidden Layer1 to Hidden Layer2\n",
    "                          nn.Sigmoid(),#Non-Linear Function\n",
    "                          nn.Linear(in_features=9, out_features=9),#Hidden Layer2 to Hidden Layer3\n",
    "                          nn.Sigmoid(),#Non-Linear Function\n",
    "                          nn.Linear(in_features=9, out_features=1))#Hidden Layer3 to Output Layer"
   ]
  },
  {
   "cell_type": "code",
   "execution_count": 50,
   "id": "e53c98b8-32fb-4084-a7e2-845d5eab339f",
   "metadata": {
    "tags": []
   },
   "outputs": [],
   "source": [
    "loss_nn3 = nn.BCEWithLogitsLoss()#Non-Linear Function to get probability of class inclusive here\n",
    "grad_nn3 = torch.optim.SGD(model_nn3.parameters(), lr=0.001)"
   ]
  },
  {
   "cell_type": "code",
   "execution_count": 51,
   "id": "f95634ee-8bba-4be4-bc0b-44ac79b9300e",
   "metadata": {
    "tags": []
   },
   "outputs": [
    {
     "name": "stdout",
     "output_type": "stream",
     "text": [
      "Epoch: 0 | Loss: 0.799547016620636, Accuracy: 24.08% | Test Loss: 0.799138605594635, Test Accuracy: 24.10%\n",
      "Epoch: 500 | Loss: 0.6674513220787048, Accuracy: 75.92% | Test Loss: 0.6673227548599243, Test Accuracy: 75.90%\n",
      "Epoch: 1000 | Loss: 0.6075656414031982, Accuracy: 75.92% | Test Loss: 0.6075791716575623, Test Accuracy: 75.90%\n",
      "Epoch: 1500 | Loss: 0.5796221494674683, Accuracy: 75.92% | Test Loss: 0.5797115564346313, Test Accuracy: 75.90%\n",
      "Epoch: 2000 | Loss: 0.566107451915741, Accuracy: 75.92% | Test Loss: 0.5662403702735901, Test Accuracy: 75.90%\n",
      "Epoch: 2500 | Loss: 0.559364378452301, Accuracy: 75.92% | Test Loss: 0.55952388048172, Test Accuracy: 75.90%\n",
      "Epoch: 3000 | Loss: 0.5559167265892029, Accuracy: 75.92% | Test Loss: 0.5560934543609619, Test Accuracy: 75.90%\n",
      "Epoch: 3500 | Loss: 0.5541212558746338, Accuracy: 75.92% | Test Loss: 0.5543093681335449, Test Accuracy: 75.90%\n",
      "Epoch: 4000 | Loss: 0.5531730651855469, Accuracy: 75.92% | Test Loss: 0.5533690452575684, Test Accuracy: 75.90%\n",
      "Epoch: 4500 | Loss: 0.5526671409606934, Accuracy: 75.92% | Test Loss: 0.5528687238693237, Test Accuracy: 75.90%\n",
      "Epoch: 5000 | Loss: 0.5523950457572937, Accuracy: 75.92% | Test Loss: 0.552600622177124, Test Accuracy: 75.90%\n",
      "Epoch: 5500 | Loss: 0.5522477626800537, Accuracy: 75.92% | Test Loss: 0.5524561405181885, Test Accuracy: 75.90%\n",
      "Epoch: 6000 | Loss: 0.5521675944328308, Accuracy: 75.92% | Test Loss: 0.5523781180381775, Test Accuracy: 75.90%\n",
      "Epoch: 6500 | Loss: 0.5521236658096313, Accuracy: 75.92% | Test Loss: 0.5523356199264526, Test Accuracy: 75.90%\n",
      "Epoch: 7000 | Loss: 0.5520995259284973, Accuracy: 75.92% | Test Loss: 0.5523125529289246, Test Accuracy: 75.90%\n",
      "Epoch: 7500 | Loss: 0.5520859360694885, Accuracy: 75.92% | Test Loss: 0.5522999167442322, Test Accuracy: 75.90%\n",
      "Epoch: 8000 | Loss: 0.5520782470703125, Accuracy: 75.92% | Test Loss: 0.5522928833961487, Test Accuracy: 75.90%\n",
      "Epoch: 8500 | Loss: 0.5520738363265991, Accuracy: 75.92% | Test Loss: 0.552288830280304, Test Accuracy: 75.90%\n",
      "Epoch: 9000 | Loss: 0.5520711541175842, Accuracy: 75.92% | Test Loss: 0.5522864460945129, Test Accuracy: 75.90%\n",
      "Epoch: 9500 | Loss: 0.5520693063735962, Accuracy: 75.92% | Test Loss: 0.5522849559783936, Test Accuracy: 75.90%\n"
     ]
    }
   ],
   "source": [
    "torch.manual_seed(6)\n",
    "train_loss_values3 = []\n",
    "test_loss_values3 = []\n",
    "epoch_count3 = []\n",
    "train_accuracy_values3 = []\n",
    "valid_accuracy_values3 = []\n",
    "for epoch in range(10000):\n",
    "    ## Training    \n",
    "    # Set Training mode\n",
    "    model_nn3.train()\n",
    "    \n",
    "    # Forward Pass\n",
    "    y_pred_nn3logits = model_nn3(X_train_nn3).squeeze()\n",
    "    y_pred_nn3 = torch.round(torch.sigmoid(y_pred_nn3logits))\n",
    "    \n",
    "    # Calculating loss\n",
    "    losstrain = loss_nn3(y_pred_nn3logits, Y_train_nn3)\n",
    "    \n",
    "    epoch_count3.append(epoch)\n",
    "    train_loss_values3.append(losstrain.item())\n",
    "    train_acc = accuracy_fn(y_true=Y_train_nn3, y_pred=y_pred_nn3)\n",
    "    train_accuracy_values3.append(train_acc)\n",
    "    \n",
    "    # Zero Grad of optimizer\n",
    "    grad_nn3.zero_grad()\n",
    "    \n",
    "    # Backward Propogation\n",
    "    losstrain.backward()\n",
    "    \n",
    "    # Progress the optimizer\n",
    "    grad_nn3.step()\n",
    "    \n",
    "    ## Validation\n",
    "    # Setting evaluation mode\n",
    "    model_nn3.eval()\n",
    "    \n",
    "    with torch.inference_mode():\n",
    "        valid_predlogits = model_nn3(X_valid_nn3).squeeze()\n",
    "        valid_pred = torch.round(torch.sigmoid(valid_predlogits))\n",
    "        loss_valid = loss_nn3(valid_predlogits, Y_valid_nn3)\n",
    "        test_loss_values3.append(loss_valid.item())\n",
    "        valid_acc = accuracy_fn(y_true=Y_valid_nn3, y_pred=valid_pred)\n",
    "        valid_accuracy_values3.append(valid_acc)\n",
    "        \n",
    "    if epoch%500==0:\n",
    "        print(f\"Epoch: {epoch} | Loss: {losstrain.item()}, Accuracy: {train_acc:.2f}% | Test Loss: {loss_valid.item()}, Test Accuracy: {valid_acc:.2f}%\")"
   ]
  },
  {
   "cell_type": "code",
   "execution_count": 52,
   "id": "fd097ace-3a7b-4683-9f94-9f3d807cc5a7",
   "metadata": {
    "tags": []
   },
   "outputs": [
    {
     "data": {
      "text/plain": [
       "75.91904425539757"
      ]
     },
     "execution_count": 52,
     "metadata": {},
     "output_type": "execute_result"
    }
   ],
   "source": [
    "model_nn3.eval()\n",
    "with torch.inference_mode():\n",
    "    train_pred = model_nn3(X_train_nn3).squeeze()\n",
    "    \n",
    "train_pred = torch.round(torch.sigmoid(train_pred))\n",
    "train_acc = accuracy_fn(y_true=Y_train_nn3, y_pred=train_pred)\n",
    "train_acc"
   ]
  },
  {
   "cell_type": "code",
   "execution_count": 53,
   "id": "fc3cc8bf-cfae-4905-90e3-2bfded87ba8a",
   "metadata": {
    "tags": []
   },
   "outputs": [
    {
     "data": {
      "text/plain": [
       "76.85503685503686"
      ]
     },
     "execution_count": 53,
     "metadata": {},
     "output_type": "execute_result"
    }
   ],
   "source": [
    "model_nn3.eval()\n",
    "with torch.inference_mode():\n",
    "    test_pred = model_nn3(X_test_nn3).squeeze()\n",
    "    \n",
    "test_pred = torch.round(torch.sigmoid(test_pred))\n",
    "test_acc = accuracy_fn(y_true=Y_test_nn3, y_pred=test_pred)\n",
    "test_acc"
   ]
  },
  {
   "cell_type": "code",
   "execution_count": 54,
   "id": "2fd38f96-55ef-4f62-9be6-49f43c2a9fe7",
   "metadata": {
    "tags": []
   },
   "outputs": [
    {
     "data": {
      "image/png": "[encoded data removed]",
      "text/plain": [
       "<Figure size 640x480 with 1 Axes>"
      ]
     },
     "metadata": {},
     "output_type": "display_data"
    }
   ],
   "source": [
    "plt.plot(epoch_count3, train_accuracy_values3)\n",
    "plt.plot(epoch_count3, valid_accuracy_values3)\n",
    "plt.title(\"Model Accuracy\")\n",
    "plt.xlabel(\"Epochs\")\n",
    "plt.ylabel(\"Accuracy\")\n",
    "plt.legend(['Train','Valid'], loc='upper left')\n",
    "plt.savefig('Acc3Hidden.png')"
   ]
  },
  {
   "cell_type": "code",
   "execution_count": 55,
   "id": "37977201-a2d5-4efb-9aea-bae346405485",
   "metadata": {
    "tags": []
   },
   "outputs": [
    {
     "data": {
      "image/png": "[encoded data removed]",
      "text/plain": [
       "<Figure size 640x480 with 1 Axes>"
      ]
     },
     "metadata": {},
     "output_type": "display_data"
    }
   ],
   "source": [
    "plt.plot(epoch_count3, train_loss_values3)\n",
    "plt.plot(epoch_count3, test_loss_values3)\n",
    "plt.title(\"Model Loss\")\n",
    "plt.xlabel(\"Epochs\")\n",
    "plt.ylabel(\"Loss\")\n",
    "plt.legend(['Train','Valid'], loc='upper right')\n",
    "plt.savefig('Loss3Hidden.png')"
   ]
  },
  {
   "cell_type": "code",
   "execution_count": 56,
   "id": "0bda8257-076c-4e4d-a9f0-a5417dee3e04",
   "metadata": {
    "tags": []
   },
   "outputs": [],
   "source": [
    "torch.save(model_nn3.state_dict(),f='NN3.pth')"
   ]
  },
  {
   "cell_type": "code",
   "execution_count": 57,
   "id": "113058ca-d3b3-4903-ad39-fe68b419f00a",
   "metadata": {
    "tags": []
   },
   "outputs": [
    {
     "data": {
      "text/plain": [
       "<All keys matched successfully>"
      ]
     },
     "execution_count": 57,
     "metadata": {},
     "output_type": "execute_result"
    }
   ],
   "source": [
    "model_nn3.load_state_dict(torch.load(f='NN3.pth'))"
   ]
  },
  {
   "cell_type": "code",
   "execution_count": 58,
   "id": "70cc8cbc-6b96-436a-89ca-c7798c2ba090",
   "metadata": {
    "tags": []
   },
   "outputs": [],
   "source": [
    "X_train_nn3, Y_train_nn3, X_test_nn3, X_valid_nn3, Y_test_nn3, Y_valid_nn3 = None, None, None, None, None, None"
   ]
  },
  {
   "cell_type": "markdown",
   "id": "d95dc8ae-7cb6-4b5e-812b-47392283c603",
   "metadata": {},
   "source": [
    "## Random Data\n",
    "Here, we will use train test split, first combining the data and then randomly selecting 67% for training, and 33% for testing, this is to check wether the data is well distributed or not. Let's start with preprocessing the data."
   ]
  },
  {
   "cell_type": "markdown",
   "id": "dbc8465d-5840-4665-9e70-a01b1abf98af",
   "metadata": {},
   "source": [
    "### Preprocessing the data"
   ]
  },
  {
   "cell_type": "code",
   "execution_count": 2,
   "id": "686715a8-fa3a-4a44-a48f-dfe1f195999e",
   "metadata": {
    "tags": []
   },
   "outputs": [
    {
     "data": {
      "text/html": [
       "<div>\n",
       "<style scoped>\n",
       "    .dataframe tbody tr th:only-of-type {\n",
       "        vertical-align: middle;\n",
       "    }\n",
       "\n",
       "    .dataframe tbody tr th {\n",
       "        vertical-align: top;\n",
       "    }\n",
       "\n",
       "    .dataframe thead th {\n",
       "        text-align: right;\n",
       "    }\n",
       "</style>\n",
       "<table border=\"1\" class=\"dataframe\">\n",
       "  <thead>\n",
       "    <tr style=\"text-align: right;\">\n",
       "      <th></th>\n",
       "      <th>age</th>\n",
       "      <th>workclass</th>\n",
       "      <th>fnlwgt</th>\n",
       "      <th>education</th>\n",
       "      <th>education-num</th>\n",
       "      <th>marital-status</th>\n",
       "      <th>occupation</th>\n",
       "      <th>relationship</th>\n",
       "      <th>race</th>\n",
       "      <th>sex</th>\n",
       "      <th>capital-gain</th>\n",
       "      <th>capital-loss</th>\n",
       "      <th>hours-per-week</th>\n",
       "      <th>native-country</th>\n",
       "      <th>class</th>\n",
       "    </tr>\n",
       "  </thead>\n",
       "  <tbody>\n",
       "    <tr>\n",
       "      <th>0</th>\n",
       "      <td>39</td>\n",
       "      <td>State-gov</td>\n",
       "      <td>77516</td>\n",
       "      <td>Bachelors</td>\n",
       "      <td>13</td>\n",
       "      <td>Never-married</td>\n",
       "      <td>Adm-clerical</td>\n",
       "      <td>Not-in-family</td>\n",
       "      <td>White</td>\n",
       "      <td>Male</td>\n",
       "      <td>2174</td>\n",
       "      <td>0</td>\n",
       "      <td>40</td>\n",
       "      <td>United-States</td>\n",
       "      <td>&lt;=50K</td>\n",
       "    </tr>\n",
       "    <tr>\n",
       "      <th>1</th>\n",
       "      <td>50</td>\n",
       "      <td>Self-emp-not-inc</td>\n",
       "      <td>83311</td>\n",
       "      <td>Bachelors</td>\n",
       "      <td>13</td>\n",
       "      <td>Married-civ-spouse</td>\n",
       "      <td>Exec-managerial</td>\n",
       "      <td>Husband</td>\n",
       "      <td>White</td>\n",
       "      <td>Male</td>\n",
       "      <td>0</td>\n",
       "      <td>0</td>\n",
       "      <td>13</td>\n",
       "      <td>United-States</td>\n",
       "      <td>&lt;=50K</td>\n",
       "    </tr>\n",
       "    <tr>\n",
       "      <th>2</th>\n",
       "      <td>38</td>\n",
       "      <td>Private</td>\n",
       "      <td>215646</td>\n",
       "      <td>HS-grad</td>\n",
       "      <td>9</td>\n",
       "      <td>Divorced</td>\n",
       "      <td>Handlers-cleaners</td>\n",
       "      <td>Not-in-family</td>\n",
       "      <td>White</td>\n",
       "      <td>Male</td>\n",
       "      <td>0</td>\n",
       "      <td>0</td>\n",
       "      <td>40</td>\n",
       "      <td>United-States</td>\n",
       "      <td>&lt;=50K</td>\n",
       "    </tr>\n",
       "    <tr>\n",
       "      <th>3</th>\n",
       "      <td>53</td>\n",
       "      <td>Private</td>\n",
       "      <td>234721</td>\n",
       "      <td>11th</td>\n",
       "      <td>7</td>\n",
       "      <td>Married-civ-spouse</td>\n",
       "      <td>Handlers-cleaners</td>\n",
       "      <td>Husband</td>\n",
       "      <td>Black</td>\n",
       "      <td>Male</td>\n",
       "      <td>0</td>\n",
       "      <td>0</td>\n",
       "      <td>40</td>\n",
       "      <td>United-States</td>\n",
       "      <td>&lt;=50K</td>\n",
       "    </tr>\n",
       "    <tr>\n",
       "      <th>4</th>\n",
       "      <td>28</td>\n",
       "      <td>Private</td>\n",
       "      <td>338409</td>\n",
       "      <td>Bachelors</td>\n",
       "      <td>13</td>\n",
       "      <td>Married-civ-spouse</td>\n",
       "      <td>Prof-specialty</td>\n",
       "      <td>Wife</td>\n",
       "      <td>Black</td>\n",
       "      <td>Female</td>\n",
       "      <td>0</td>\n",
       "      <td>0</td>\n",
       "      <td>40</td>\n",
       "      <td>Cuba</td>\n",
       "      <td>&lt;=50K</td>\n",
       "    </tr>\n",
       "  </tbody>\n",
       "</table>\n",
       "</div>"
      ],
      "text/plain": [
       "   age         workclass  fnlwgt  education  education-num  \\\n",
       "0   39         State-gov   77516  Bachelors             13   \n",
       "1   50  Self-emp-not-inc   83311  Bachelors             13   \n",
       "2   38           Private  215646    HS-grad              9   \n",
       "3   53           Private  234721       11th              7   \n",
       "4   28           Private  338409  Bachelors             13   \n",
       "\n",
       "       marital-status         occupation   relationship   race     sex  \\\n",
       "0       Never-married       Adm-clerical  Not-in-family  White    Male   \n",
       "1  Married-civ-spouse    Exec-managerial        Husband  White    Male   \n",
       "2            Divorced  Handlers-cleaners  Not-in-family  White    Male   \n",
       "3  Married-civ-spouse  Handlers-cleaners        Husband  Black    Male   \n",
       "4  Married-civ-spouse     Prof-specialty           Wife  Black  Female   \n",
       "\n",
       "   capital-gain  capital-loss  hours-per-week native-country  class  \n",
       "0          2174             0              40  United-States  <=50K  \n",
       "1             0             0              13  United-States  <=50K  \n",
       "2             0             0              40  United-States  <=50K  \n",
       "3             0             0              40  United-States  <=50K  \n",
       "4             0             0              40           Cuba  <=50K  "
      ]
     },
     "execution_count": 2,
     "metadata": {},
     "output_type": "execute_result"
    }
   ],
   "source": [
    "combined_df = pd.read_csv('data/combined.csv', na_values='?')\n",
    "combined_df.head()"
   ]
  },
  {
   "cell_type": "code",
   "execution_count": 6,
   "id": "5011ae00-63a7-4acc-9c24-a423b9344c78",
   "metadata": {
    "tags": []
   },
   "outputs": [
    {
     "data": {
      "text/html": [
       "<div>\n",
       "<style scoped>\n",
       "    .dataframe tbody tr th:only-of-type {\n",
       "        vertical-align: middle;\n",
       "    }\n",
       "\n",
       "    .dataframe tbody tr th {\n",
       "        vertical-align: top;\n",
       "    }\n",
       "\n",
       "    .dataframe thead th {\n",
       "        text-align: right;\n",
       "    }\n",
       "</style>\n",
       "<table border=\"1\" class=\"dataframe\">\n",
       "  <thead>\n",
       "    <tr style=\"text-align: right;\">\n",
       "      <th></th>\n",
       "      <th>age</th>\n",
       "      <th>fnlwgt</th>\n",
       "      <th>education-num</th>\n",
       "      <th>capital-gain</th>\n",
       "      <th>capital-loss</th>\n",
       "      <th>hours-per-week</th>\n",
       "      <th>workclass_n</th>\n",
       "      <th>education_n</th>\n",
       "      <th>marital-status_n</th>\n",
       "      <th>occupation_n</th>\n",
       "      <th>relationship_n</th>\n",
       "      <th>race_n</th>\n",
       "      <th>sex_n</th>\n",
       "      <th>native-country_n</th>\n",
       "      <th>class_n</th>\n",
       "    </tr>\n",
       "  </thead>\n",
       "  <tbody>\n",
       "    <tr>\n",
       "      <th>0</th>\n",
       "      <td>39</td>\n",
       "      <td>77516</td>\n",
       "      <td>13</td>\n",
       "      <td>2174</td>\n",
       "      <td>0</td>\n",
       "      <td>40</td>\n",
       "      <td>6</td>\n",
       "      <td>12</td>\n",
       "      <td>4</td>\n",
       "      <td>3</td>\n",
       "      <td>1</td>\n",
       "      <td>4</td>\n",
       "      <td>1</td>\n",
       "      <td>38</td>\n",
       "      <td>0</td>\n",
       "    </tr>\n",
       "    <tr>\n",
       "      <th>1</th>\n",
       "      <td>50</td>\n",
       "      <td>83311</td>\n",
       "      <td>13</td>\n",
       "      <td>0</td>\n",
       "      <td>0</td>\n",
       "      <td>13</td>\n",
       "      <td>2</td>\n",
       "      <td>12</td>\n",
       "      <td>2</td>\n",
       "      <td>12</td>\n",
       "      <td>4</td>\n",
       "      <td>4</td>\n",
       "      <td>1</td>\n",
       "      <td>38</td>\n",
       "      <td>0</td>\n",
       "    </tr>\n",
       "    <tr>\n",
       "      <th>2</th>\n",
       "      <td>38</td>\n",
       "      <td>215646</td>\n",
       "      <td>9</td>\n",
       "      <td>0</td>\n",
       "      <td>0</td>\n",
       "      <td>40</td>\n",
       "      <td>4</td>\n",
       "      <td>13</td>\n",
       "      <td>0</td>\n",
       "      <td>2</td>\n",
       "      <td>1</td>\n",
       "      <td>4</td>\n",
       "      <td>1</td>\n",
       "      <td>38</td>\n",
       "      <td>0</td>\n",
       "    </tr>\n",
       "    <tr>\n",
       "      <th>3</th>\n",
       "      <td>53</td>\n",
       "      <td>234721</td>\n",
       "      <td>7</td>\n",
       "      <td>0</td>\n",
       "      <td>0</td>\n",
       "      <td>40</td>\n",
       "      <td>4</td>\n",
       "      <td>6</td>\n",
       "      <td>2</td>\n",
       "      <td>2</td>\n",
       "      <td>4</td>\n",
       "      <td>2</td>\n",
       "      <td>1</td>\n",
       "      <td>38</td>\n",
       "      <td>0</td>\n",
       "    </tr>\n",
       "    <tr>\n",
       "      <th>4</th>\n",
       "      <td>28</td>\n",
       "      <td>338409</td>\n",
       "      <td>13</td>\n",
       "      <td>0</td>\n",
       "      <td>0</td>\n",
       "      <td>40</td>\n",
       "      <td>4</td>\n",
       "      <td>12</td>\n",
       "      <td>2</td>\n",
       "      <td>13</td>\n",
       "      <td>2</td>\n",
       "      <td>2</td>\n",
       "      <td>0</td>\n",
       "      <td>4</td>\n",
       "      <td>0</td>\n",
       "    </tr>\n",
       "  </tbody>\n",
       "</table>\n",
       "</div>"
      ],
      "text/plain": [
       "   age  fnlwgt  education-num  capital-gain  capital-loss  hours-per-week  \\\n",
       "0   39   77516             13          2174             0              40   \n",
       "1   50   83311             13             0             0              13   \n",
       "2   38  215646              9             0             0              40   \n",
       "3   53  234721              7             0             0              40   \n",
       "4   28  338409             13             0             0              40   \n",
       "\n",
       "   workclass_n  education_n  marital-status_n  occupation_n  relationship_n  \\\n",
       "0            6           12                 4             3               1   \n",
       "1            2           12                 2            12               4   \n",
       "2            4           13                 0             2               1   \n",
       "3            4            6                 2             2               4   \n",
       "4            4           12                 2            13               2   \n",
       "\n",
       "   race_n  sex_n  native-country_n  class_n  \n",
       "0       4      1                38        0  \n",
       "1       4      1                38        0  \n",
       "2       4      1                38        0  \n",
       "3       2      1                38        0  \n",
       "4       2      0                 4        0  "
      ]
     },
     "execution_count": 6,
     "metadata": {},
     "output_type": "execute_result"
    }
   ],
   "source": [
    "combined_df = dfEncoder(dfFillNaN(combined_df))\n",
    "combined_df.head()"
   ]
  },
  {
   "cell_type": "code",
   "execution_count": 7,
   "id": "c2f424a2-468c-4328-8ac7-25624f27071c",
   "metadata": {
    "tags": []
   },
   "outputs": [
    {
     "data": {
      "text/plain": [
       "(array([ 0.02599598, -1.06197924,  1.136512  ,  0.14693247, -0.2171271 ,\n",
       "        -0.03408696,  2.13152096,  0.34293339,  0.91613819, -1.35943472,\n",
       "        -1.33529287,  0.38328774,  0.70422049,  0.25969378]),\n",
       " (48842, 14),\n",
       " 0,\n",
       " (48842,))"
      ]
     },
     "execution_count": 7,
     "metadata": {},
     "output_type": "execute_result"
    }
   ],
   "source": [
    "scr = StandardScaler()\n",
    "X = combined_df.drop(columns='class_n', axis='columns')\n",
    "y = combined_df.class_n\n",
    "X = scr.fit_transform(X)\n",
    "X[0], X.shape, y[0], y.shape"
   ]
  },
  {
   "cell_type": "code",
   "execution_count": 8,
   "id": "7bf4a35d-d1cf-440a-b221-17e83656421c",
   "metadata": {
    "tags": []
   },
   "outputs": [
    {
     "data": {
      "text/plain": [
       "((32724, 14), (16118, 14))"
      ]
     },
     "execution_count": 8,
     "metadata": {},
     "output_type": "execute_result"
    }
   ],
   "source": [
    "X_train, X_test, Y_train, Y_test = train_test_split(X, y, train_size=0.67, random_state=6)\n",
    "X_train.shape, X_test.shape"
   ]
  },
  {
   "cell_type": "markdown",
   "id": "f20fb174-e34c-4b13-9fe8-513ce7f9dcd1",
   "metadata": {},
   "source": [
    "### Naive Bayes for Random"
   ]
  },
  {
   "cell_type": "code",
   "execution_count": 42,
   "id": "dba1a641-eedd-4c2e-9b81-11154a851265",
   "metadata": {
    "tags": []
   },
   "outputs": [
    {
     "data": {
      "text/html": [
       "<style>#sk-container-id-1 {color: black;background-color: white;}#sk-container-id-1 pre{padding: 0;}#sk-container-id-1 div.sk-toggleable {background-color: white;}#sk-container-id-1 label.sk-toggleable__label {cursor: pointer;display: block;width: 100%;margin-bottom: 0;padding: 0.3em;box-sizing: border-box;text-align: center;}#sk-container-id-1 label.sk-toggleable__label-arrow:before {content: \"▸\";float: left;margin-right: 0.25em;color: #696969;}#sk-container-id-1 label.sk-toggleable__label-arrow:hover:before {color: black;}#sk-container-id-1 div.sk-estimator:hover label.sk-toggleable__label-arrow:before {color: black;}#sk-container-id-1 div.sk-toggleable__content {max-height: 0;max-width: 0;overflow: hidden;text-align: left;background-color: #f0f8ff;}#sk-container-id-1 div.sk-toggleable__content pre {margin: 0.2em;color: black;border-radius: 0.25em;background-color: #f0f8ff;}#sk-container-id-1 input.sk-toggleable__control:checked~div.sk-toggleable__content {max-height: 200px;max-width: 100%;overflow: auto;}#sk-container-id-1 input.sk-toggleable__control:checked~label.sk-toggleable__label-arrow:before {content: \"▾\";}#sk-container-id-1 div.sk-estimator input.sk-toggleable__control:checked~label.sk-toggleable__label {background-color: #d4ebff;}#sk-container-id-1 div.sk-label input.sk-toggleable__control:checked~label.sk-toggleable__label {background-color: #d4ebff;}#sk-container-id-1 input.sk-hidden--visually {border: 0;clip: rect(1px 1px 1px 1px);clip: rect(1px, 1px, 1px, 1px);height: 1px;margin: -1px;overflow: hidden;padding: 0;position: absolute;width: 1px;}#sk-container-id-1 div.sk-estimator {font-family: monospace;background-color: #f0f8ff;border: 1px dotted black;border-radius: 0.25em;box-sizing: border-box;margin-bottom: 0.5em;}#sk-container-id-1 div.sk-estimator:hover {background-color: #d4ebff;}#sk-container-id-1 div.sk-parallel-item::after {content: \"\";width: 100%;border-bottom: 1px solid gray;flex-grow: 1;}#sk-container-id-1 div.sk-label:hover label.sk-toggleable__label {background-color: #d4ebff;}#sk-container-id-1 div.sk-serial::before {content: \"\";position: absolute;border-left: 1px solid gray;box-sizing: border-box;top: 0;bottom: 0;left: 50%;z-index: 0;}#sk-container-id-1 div.sk-serial {display: flex;flex-direction: column;align-items: center;background-color: white;padding-right: 0.2em;padding-left: 0.2em;position: relative;}#sk-container-id-1 div.sk-item {position: relative;z-index: 1;}#sk-container-id-1 div.sk-parallel {display: flex;align-items: stretch;justify-content: center;background-color: white;position: relative;}#sk-container-id-1 div.sk-item::before, #sk-container-id-1 div.sk-parallel-item::before {content: \"\";position: absolute;border-left: 1px solid gray;box-sizing: border-box;top: 0;bottom: 0;left: 50%;z-index: -1;}#sk-container-id-1 div.sk-parallel-item {display: flex;flex-direction: column;z-index: 1;position: relative;background-color: white;}#sk-container-id-1 div.sk-parallel-item:first-child::after {align-self: flex-end;width: 50%;}#sk-container-id-1 div.sk-parallel-item:last-child::after {align-self: flex-start;width: 50%;}#sk-container-id-1 div.sk-parallel-item:only-child::after {width: 0;}#sk-container-id-1 div.sk-dashed-wrapped {border: 1px dashed gray;margin: 0 0.4em 0.5em 0.4em;box-sizing: border-box;padding-bottom: 0.4em;background-color: white;}#sk-container-id-1 div.sk-label label {font-family: monospace;font-weight: bold;display: inline-block;line-height: 1.2em;}#sk-container-id-1 div.sk-label-container {text-align: center;}#sk-container-id-1 div.sk-container {/* jupyter's `normalize.less` sets `[hidden] { display: none; }` but bootstrap.min.css set `[hidden] { display: none !important; }` so we also need the `!important` here to be able to override the default hidden behavior on the sphinx rendered scikit-learn.org. See: https://github.com/scikit-learn/scikit-learn/issues/21755 */display: inline-block !important;position: relative;}#sk-container-id-1 div.sk-text-repr-fallback {display: none;}</style><div id=\"sk-container-id-1\" class=\"sk-top-container\"><div class=\"sk-text-repr-fallback\"><pre>GaussianNB()</pre><b>In a Jupyter environment, please rerun this cell to show the HTML representation or trust the notebook. <br />On GitHub, the HTML representation is unable to render, please try loading this page with nbviewer.org.</b></div><div class=\"sk-container\" hidden><div class=\"sk-item\"><div class=\"sk-estimator sk-toggleable\"><input class=\"sk-toggleable__control sk-hidden--visually\" id=\"sk-estimator-id-1\" type=\"checkbox\" checked><label for=\"sk-estimator-id-1\" class=\"sk-toggleable__label sk-toggleable__label-arrow\">GaussianNB</label><div class=\"sk-toggleable__content\"><pre>GaussianNB()</pre></div></div></div></div></div>"
      ],
      "text/plain": [
       "GaussianNB()"
      ]
     },
     "execution_count": 42,
     "metadata": {},
     "output_type": "execute_result"
    }
   ],
   "source": [
    "naiveGaussRandom = GaussianNB()\n",
    "X_train_nbr, Y_train_nbr, X_test_nbr, Y_test_nbr = X_train.copy(), Y_train.copy(), X_test.copy(), Y_test.copy()\n",
    "naiveGaussRandom.fit(X_train_nbr, Y_train_nbr)"
   ]
  },
  {
   "cell_type": "code",
   "execution_count": 44,
   "id": "12719c8b-68d3-43cd-b8a0-ea463021a7af",
   "metadata": {
    "tags": []
   },
   "outputs": [],
   "source": [
    "Y_pred_nbr_ = naiveGaussRandom.predict(X_train_nbr)\n",
    "cm_nbr_ = confusion_matrix(Y_train_nbr, Y_pred_nbr_)"
   ]
  },
  {
   "cell_type": "code",
   "execution_count": 43,
   "id": "6774cfe5-59fe-4f6c-a460-fe5034b3804a",
   "metadata": {
    "tags": []
   },
   "outputs": [],
   "source": [
    "Y_pred_nbr = naiveGaussRandom.predict(X_test_nbr)\n",
    "cm_nbr = confusion_matrix(Y_test_nbr, Y_pred_nbr)"
   ]
  },
  {
   "cell_type": "code",
   "execution_count": 45,
   "id": "47810e06-d39a-4837-bb1a-c5364ade8784",
   "metadata": {
    "tags": []
   },
   "outputs": [
    {
     "data": {
      "text/plain": [
       "0.8173511795624007"
      ]
     },
     "execution_count": 45,
     "metadata": {},
     "output_type": "execute_result"
    }
   ],
   "source": [
    "naiveGaussRandom.score(X_train_nbr, Y_train_nbr)"
   ]
  },
  {
   "cell_type": "code",
   "execution_count": 46,
   "id": "5d33fb90-c943-4ad2-8acd-30a66a51e350",
   "metadata": {
    "tags": []
   },
   "outputs": [
    {
     "data": {
      "text/plain": [
       "0.8164784712743517"
      ]
     },
     "execution_count": 46,
     "metadata": {},
     "output_type": "execute_result"
    }
   ],
   "source": [
    "naiveGaussRandom.score(X_test_nbr, Y_test_nbr)"
   ]
  },
  {
   "cell_type": "code",
   "execution_count": 48,
   "id": "0a541d3c-bc00-491a-85aa-95e99a0eee2b",
   "metadata": {
    "tags": []
   },
   "outputs": [
    {
     "data": {
      "text/plain": [
       "(array([0.5, 1.5]), [Text(0.5, 0, '<50K'), Text(1.5, 0, '>=50K')])"
      ]
     },
     "execution_count": 48,
     "metadata": {},
     "output_type": "execute_result"
    },
    {
     "data": {
      "image/png": "[encoded data removed]",
      "text/plain": [
       "<Figure size 640x480 with 1 Axes>"
      ]
     },
     "metadata": {},
     "output_type": "display_data"
    }
   ],
   "source": [
    "class_labels = ['<50K', '>=50K']\n",
    "fig_nbr, ax_nbr = plt.subplots()\n",
    "\n",
    "# Create a heatmap using seaborn\n",
    "heatmap = sns.heatmap(cm_nbr_, annot=True, fmt='d', cmap='Blues', cbar=False, ax=ax_nbr)\n",
    "\n",
    "ax_nbr.set_xlabel('Predicted')\n",
    "ax_nbr.set_ylabel('True')\n",
    "ax_nbr.set_title('Confusion Matrix')\n",
    "ax_nbr.xaxis.set_ticklabels(class_labels)\n",
    "ax_nbr.yaxis.set_ticklabels(class_labels)\n",
    "plt.xticks(rotation=45)"
   ]
  },
  {
   "cell_type": "code",
   "execution_count": 49,
   "id": "c7bf17bd-8595-40dc-a0de-4b689798f9f8",
   "metadata": {
    "tags": []
   },
   "outputs": [
    {
     "data": {
      "text/plain": [
       "(array([0.5, 1.5]), [Text(0.5, 0, '<50K'), Text(1.5, 0, '>=50K')])"
      ]
     },
     "execution_count": 49,
     "metadata": {},
     "output_type": "execute_result"
    },
    {
     "data": {
      "image/png": "[encoded data removed]",
      "text/plain": [
       "<Figure size 640x480 with 1 Axes>"
      ]
     },
     "metadata": {},
     "output_type": "display_data"
    }
   ],
   "source": [
    "class_labels = ['<50K', '>=50K']\n",
    "fig_nbr1, ax_nbr1 = plt.subplots()\n",
    "\n",
    "# Create a heatmap using seaborn\n",
    "heatmap = sns.heatmap(cm_nbr, annot=True, fmt='d', cmap='Blues', cbar=False, ax=ax_nbr1)\n",
    "\n",
    "ax_nbr1.set_xlabel('Predicted')\n",
    "ax_nbr1.set_ylabel('True')\n",
    "ax_nbr1.set_title('Confusion Matrix')\n",
    "ax_nbr1.xaxis.set_ticklabels(class_labels)\n",
    "ax_nbr1.yaxis.set_ticklabels(class_labels)\n",
    "fig_nbr1.savefig('CM_NaiveRandom.png')\n",
    "plt.xticks(rotation=45)"
   ]
  },
  {
   "cell_type": "code",
   "execution_count": 72,
   "id": "b01743c4-0e70-4a28-86dc-f95f2cd56ee9",
   "metadata": {
    "tags": []
   },
   "outputs": [],
   "source": [
    "with open('gnb_model_random.pkl', 'wb') as file:\n",
    "    pickle.dump(naiveGaussRandom, file)"
   ]
  },
  {
   "cell_type": "code",
   "execution_count": 73,
   "id": "9caeb42c-bd73-471a-9cb0-9cc5fa7308c5",
   "metadata": {
    "tags": []
   },
   "outputs": [],
   "source": [
    "with open('gnb_model_random.pkl', 'rb') as file:\n",
    "    naiveGaussRandom = pickle.load(file)"
   ]
  },
  {
   "cell_type": "code",
   "execution_count": 74,
   "id": "cc3fc4b1-adff-44ee-8f42-401647355838",
   "metadata": {
    "tags": []
   },
   "outputs": [],
   "source": [
    "X_train_nbr, Y_train_nbr, X_test_nbr, Y_test_nbr = None, None, None, None"
   ]
  },
  {
   "cell_type": "markdown",
   "id": "2873ab8f-a2f8-44ce-ab1b-f022374b5052",
   "metadata": {},
   "source": [
    "### Logistic Regression with Random"
   ]
  },
  {
   "cell_type": "code",
   "execution_count": 75,
   "id": "0380fd41-fcb4-4fba-bea8-e1f6e947a445",
   "metadata": {
    "tags": []
   },
   "outputs": [
    {
     "data": {
      "text/html": [
       "<style>#sk-container-id-2 {color: black;background-color: white;}#sk-container-id-2 pre{padding: 0;}#sk-container-id-2 div.sk-toggleable {background-color: white;}#sk-container-id-2 label.sk-toggleable__label {cursor: pointer;display: block;width: 100%;margin-bottom: 0;padding: 0.3em;box-sizing: border-box;text-align: center;}#sk-container-id-2 label.sk-toggleable__label-arrow:before {content: \"▸\";float: left;margin-right: 0.25em;color: #696969;}#sk-container-id-2 label.sk-toggleable__label-arrow:hover:before {color: black;}#sk-container-id-2 div.sk-estimator:hover label.sk-toggleable__label-arrow:before {color: black;}#sk-container-id-2 div.sk-toggleable__content {max-height: 0;max-width: 0;overflow: hidden;text-align: left;background-color: #f0f8ff;}#sk-container-id-2 div.sk-toggleable__content pre {margin: 0.2em;color: black;border-radius: 0.25em;background-color: #f0f8ff;}#sk-container-id-2 input.sk-toggleable__control:checked~div.sk-toggleable__content {max-height: 200px;max-width: 100%;overflow: auto;}#sk-container-id-2 input.sk-toggleable__control:checked~label.sk-toggleable__label-arrow:before {content: \"▾\";}#sk-container-id-2 div.sk-estimator input.sk-toggleable__control:checked~label.sk-toggleable__label {background-color: #d4ebff;}#sk-container-id-2 div.sk-label input.sk-toggleable__control:checked~label.sk-toggleable__label {background-color: #d4ebff;}#sk-container-id-2 input.sk-hidden--visually {border: 0;clip: rect(1px 1px 1px 1px);clip: rect(1px, 1px, 1px, 1px);height: 1px;margin: -1px;overflow: hidden;padding: 0;position: absolute;width: 1px;}#sk-container-id-2 div.sk-estimator {font-family: monospace;background-color: #f0f8ff;border: 1px dotted black;border-radius: 0.25em;box-sizing: border-box;margin-bottom: 0.5em;}#sk-container-id-2 div.sk-estimator:hover {background-color: #d4ebff;}#sk-container-id-2 div.sk-parallel-item::after {content: \"\";width: 100%;border-bottom: 1px solid gray;flex-grow: 1;}#sk-container-id-2 div.sk-label:hover label.sk-toggleable__label {background-color: #d4ebff;}#sk-container-id-2 div.sk-serial::before {content: \"\";position: absolute;border-left: 1px solid gray;box-sizing: border-box;top: 0;bottom: 0;left: 50%;z-index: 0;}#sk-container-id-2 div.sk-serial {display: flex;flex-direction: column;align-items: center;background-color: white;padding-right: 0.2em;padding-left: 0.2em;position: relative;}#sk-container-id-2 div.sk-item {position: relative;z-index: 1;}#sk-container-id-2 div.sk-parallel {display: flex;align-items: stretch;justify-content: center;background-color: white;position: relative;}#sk-container-id-2 div.sk-item::before, #sk-container-id-2 div.sk-parallel-item::before {content: \"\";position: absolute;border-left: 1px solid gray;box-sizing: border-box;top: 0;bottom: 0;left: 50%;z-index: -1;}#sk-container-id-2 div.sk-parallel-item {display: flex;flex-direction: column;z-index: 1;position: relative;background-color: white;}#sk-container-id-2 div.sk-parallel-item:first-child::after {align-self: flex-end;width: 50%;}#sk-container-id-2 div.sk-parallel-item:last-child::after {align-self: flex-start;width: 50%;}#sk-container-id-2 div.sk-parallel-item:only-child::after {width: 0;}#sk-container-id-2 div.sk-dashed-wrapped {border: 1px dashed gray;margin: 0 0.4em 0.5em 0.4em;box-sizing: border-box;padding-bottom: 0.4em;background-color: white;}#sk-container-id-2 div.sk-label label {font-family: monospace;font-weight: bold;display: inline-block;line-height: 1.2em;}#sk-container-id-2 div.sk-label-container {text-align: center;}#sk-container-id-2 div.sk-container {/* jupyter's `normalize.less` sets `[hidden] { display: none; }` but bootstrap.min.css set `[hidden] { display: none !important; }` so we also need the `!important` here to be able to override the default hidden behavior on the sphinx rendered scikit-learn.org. See: https://github.com/scikit-learn/scikit-learn/issues/21755 */display: inline-block !important;position: relative;}#sk-container-id-2 div.sk-text-repr-fallback {display: none;}</style><div id=\"sk-container-id-2\" class=\"sk-top-container\"><div class=\"sk-text-repr-fallback\"><pre>LogisticRegression(max_iter=500, multi_class=&#x27;ovr&#x27;, n_jobs=4, penalty=None,\n",
       "                   random_state=0)</pre><b>In a Jupyter environment, please rerun this cell to show the HTML representation or trust the notebook. <br />On GitHub, the HTML representation is unable to render, please try loading this page with nbviewer.org.</b></div><div class=\"sk-container\" hidden><div class=\"sk-item\"><div class=\"sk-estimator sk-toggleable\"><input class=\"sk-toggleable__control sk-hidden--visually\" id=\"sk-estimator-id-2\" type=\"checkbox\" checked><label for=\"sk-estimator-id-2\" class=\"sk-toggleable__label sk-toggleable__label-arrow\">LogisticRegression</label><div class=\"sk-toggleable__content\"><pre>LogisticRegression(max_iter=500, multi_class=&#x27;ovr&#x27;, n_jobs=4, penalty=None,\n",
       "                   random_state=0)</pre></div></div></div></div></div>"
      ],
      "text/plain": [
       "LogisticRegression(max_iter=500, multi_class='ovr', n_jobs=4, penalty=None,\n",
       "                   random_state=0)"
      ]
     },
     "execution_count": 75,
     "metadata": {},
     "output_type": "execute_result"
    }
   ],
   "source": [
    "logRegRandom = LogisticRegression(penalty=None, random_state=0,max_iter=500, multi_class='ovr',n_jobs=4)\n",
    "X_train_lrR, Y_train_lrR, X_test_lrR, Y_test_lrR = X_train.copy(), Y_train.copy(), X_test.copy(), Y_test.copy()\n",
    "logRegRandom.fit(X_train_lrR, Y_train_lrR)"
   ]
  },
  {
   "cell_type": "code",
   "execution_count": 77,
   "id": "a1961aad-f39a-44ce-ac54-dc1afbe9bd67",
   "metadata": {
    "tags": []
   },
   "outputs": [
    {
     "data": {
      "text/plain": [
       "(array([0.5, 1.5]), [Text(0.5, 0, '<50K'), Text(1.5, 0, '>=50K')])"
      ]
     },
     "execution_count": 77,
     "metadata": {},
     "output_type": "execute_result"
    },
    {
     "data": {
      "image/png": "[encoded data removed]",
      "text/plain": [
       "<Figure size 640x480 with 1 Axes>"
      ]
     },
     "metadata": {},
     "output_type": "display_data"
    }
   ],
   "source": [
    "Y_pred_lrR = logRegRandom.predict(X_test_lrR)\n",
    "cm_lrR = confusion_matrix(Y_test_lrR, Y_pred_lrR)\n",
    "class_labels = ['<50K', '>=50K']\n",
    "fig_lrR, ax_lrR = plt.subplots()\n",
    "\n",
    "# Create a heatmap using seaborn\n",
    "heatmap = sns.heatmap(cm_lrR, annot=True, fmt='d', cmap='Blues', cbar=False, ax=ax_lrR)\n",
    "\n",
    "ax_lrR.set_xlabel('Predicted')\n",
    "ax_lrR.set_ylabel('True')\n",
    "ax_lrR.set_title('Confusion Matrix - Logistic Regression')\n",
    "ax_lrR.xaxis.set_ticklabels(class_labels)\n",
    "ax_lrR.yaxis.set_ticklabels(class_labels)\n",
    "fig_lrR.savefig('CM_LogisticRandom.png')\n",
    "plt.xticks(rotation=45)"
   ]
  },
  {
   "cell_type": "code",
   "execution_count": 78,
   "id": "663d5dc7-b288-4326-ab97-a33cef43e4af",
   "metadata": {
    "tags": []
   },
   "outputs": [
    {
     "data": {
      "text/plain": [
       "0.8316831683168316"
      ]
     },
     "execution_count": 78,
     "metadata": {},
     "output_type": "execute_result"
    }
   ],
   "source": [
    "logRegRandom.score(X_train_lrR, Y_train_lrR)"
   ]
  },
  {
   "cell_type": "code",
   "execution_count": 79,
   "id": "a675c803-2fbc-44ea-b5c9-5229bc7f1d76",
   "metadata": {
    "tags": []
   },
   "outputs": [
    {
     "data": {
      "text/plain": [
       "0.8357736691897257"
      ]
     },
     "execution_count": 79,
     "metadata": {},
     "output_type": "execute_result"
    }
   ],
   "source": [
    "logRegRandom.score(X_test_lrR, Y_test_lrR)"
   ]
  },
  {
   "cell_type": "code",
   "execution_count": 80,
   "id": "ac3109bc-ea0a-4026-8775-0278f0999956",
   "metadata": {
    "tags": []
   },
   "outputs": [],
   "source": [
    "with open('lr_model_random.pkl','wb') as file:\n",
    "    pickle.dump(logRegRandom, file)"
   ]
  },
  {
   "cell_type": "code",
   "execution_count": 81,
   "id": "b7f0867d-3074-4594-83f4-d88cd0cc859d",
   "metadata": {
    "tags": []
   },
   "outputs": [],
   "source": [
    "with open('lr_model_random.pkl', 'rb') as file:\n",
    "    logRegRandom = pickle.load(file)"
   ]
  },
  {
   "cell_type": "code",
   "execution_count": 83,
   "id": "ea2c7c5e-4ac0-470d-82e7-cca4764ba956",
   "metadata": {
    "tags": []
   },
   "outputs": [
    {
     "data": {
      "image/png": "[encoded data removed]",
      "text/plain": [
       "<Figure size 640x480 with 1 Axes>"
      ]
     },
     "metadata": {},
     "output_type": "display_data"
    }
   ],
   "source": [
    "cw = logRegRandom.coef_[0]\n",
    "cw0 = logRegRandom.intercept_[0]\n",
    "feature_importance_lrR = pd.DataFrame(train_df.drop(columns='class_n', axis='columns').columns, columns = [\"attribute\"])\n",
    "feature_importance_lrR[\"importance\"] = pow(math.e, cw)\n",
    "\n",
    "bias_row = pd.DataFrame({'attribute':['bias'], \n",
    "                         'importance':[abs(cw0)]}, index=[0])\n",
    "feature_importance_lrR = pd.concat([feature_importance_lrR, bias_row], ignore_index=True)\n",
    "feature_importance_lrR = feature_importance_lrR.sort_values(by = [\"importance\"], ascending=False)\n",
    "\n",
    "fig_lrfiR, ax_lrfiR = plt.subplots()\n",
    "ax_lrfiR.barh(feature_importance_lrR.attribute, feature_importance_lrR.importance)\n",
    "ax_lrfiR.invert_yaxis()\n",
    "fig_lrfiR.savefig('Logistic_FI_random.png')"
   ]
  },
  {
   "cell_type": "code",
   "execution_count": 84,
   "id": "d5853dc9-5d8f-42be-88f4-f74a59341ab2",
   "metadata": {
    "tags": []
   },
   "outputs": [
    {
     "data": {
      "text/plain": [
       "(array([ 0.50239895,  0.06241798,  0.69972453,  2.36553087,  0.27625578,\n",
       "         0.40679473,  0.14577416,  0.03022086, -0.33564394,  0.34494034,\n",
       "         0.45734211,  0.13318496,  0.36153185, -0.01525545]),\n",
       " -1.534844087484672)"
      ]
     },
     "execution_count": 84,
     "metadata": {},
     "output_type": "execute_result"
    }
   ],
   "source": [
    "cw,cw0"
   ]
  },
  {
   "cell_type": "markdown",
   "id": "b9315524-7aa0-407b-bd64-8180df5d4876",
   "metadata": {},
   "source": [
    "Equation of the Logistic Regression:\n",
    "$$ y = 0.50239895x_{14} + 0.06241798x_{13} + 0.69972453x_{12} + 2.36553087x_{11} + 0.27625578x_{10} + 0.40679473x_{9} + 0.14577416x_8 + 0.03022086x_7 - 0.33564394x_6 + 0.34494034x_5 + 0.45734211x_4 + 0.13318496x_3 + 0.36153185x_2 + 0.36153185x - 1.534844087484672 $$\n",
    "where x represent as follows: 14:age, 13:fnlwgt, 12:education-num, 11:capital-gain, 10:capital-loss, 9:hours-per-week, 8:workclass_n, 7:education_n, 6:marital-status_n, 5:occupation_n, 4:relationship_n, 3:race_n, 2:sex_n, 1:native-country_n, 0:bias"
   ]
  },
  {
   "cell_type": "code",
   "execution_count": 85,
   "id": "a3f5a8a1-22ba-4a20-bff8-4e14421fef86",
   "metadata": {
    "tags": []
   },
   "outputs": [],
   "source": [
    "X_train_lrR, Y_train_lrR, X_test_lrR, Y_test_lrR = None, None, None, None"
   ]
  },
  {
   "cell_type": "markdown",
   "id": "ff72a1f6-3507-4522-b607-fda7b185a95a",
   "metadata": {},
   "source": [
    "### Neural Network with 1 Hidden Layer on Random Data"
   ]
  },
  {
   "cell_type": "code",
   "execution_count": 87,
   "id": "a9cdb099-79b0-41c1-bbaf-e19a4295f993",
   "metadata": {
    "tags": []
   },
   "outputs": [
    {
     "data": {
      "text/plain": [
       "((32724, 14), (32724,))"
      ]
     },
     "execution_count": 87,
     "metadata": {},
     "output_type": "execute_result"
    }
   ],
   "source": [
    "X_train_nn1, Y_train_nn1, X_test_nn1, Y_test_nn1 = X_train.copy(), Y_train.copy(), X_test.copy(), Y_test.copy()\n",
    "X_train_nn1.shape, Y_train_nn1.shape"
   ]
  },
  {
   "cell_type": "code",
   "execution_count": 88,
   "id": "15562118-f35a-4ddb-9ea8-ba2734cb885d",
   "metadata": {
    "tags": []
   },
   "outputs": [
    {
     "data": {
      "text/plain": [
       "(tensor([[ 0.0260, -0.1619,  1.5255, -0.1448, -0.2171,  0.3694, -0.0416,  1.0402,\n",
       "          -0.4104,  1.0462,  0.6106,  0.3833,  0.7042,  0.2597],\n",
       "         [-1.2139, -0.3691, -0.4193, -0.1448, -0.2171, -1.6481, -0.0416,  0.6916,\n",
       "           0.9161, -0.2903,  1.2592,  0.3833,  0.7042,  0.2597],\n",
       "         [-0.1199,  0.2159, -0.4193, -0.1448, -0.2171, -0.0341, -0.0416,  0.6916,\n",
       "          -0.4104, -0.0230,  0.6106,  0.3833,  0.7042,  0.2597],\n",
       "         [-1.3598,  0.7649, -0.4193, -0.1448, -0.2171, -0.0341, -0.0416,  0.6916,\n",
       "           0.9161, -0.8249,  1.2592,  0.3833,  0.7042,  0.2597],\n",
       "         [ 2.5059,  0.5029, -0.4193,  0.3210, -0.2171, -0.0341, -0.0416,  0.6916,\n",
       "          -0.4104, -0.8249,  0.6106,  0.3833,  0.7042, -4.7142]]),\n",
       " tensor([1., 0., 0., 0., 0.]))"
      ]
     },
     "execution_count": 88,
     "metadata": {},
     "output_type": "execute_result"
    }
   ],
   "source": [
    "X_train_nn1 = torch.from_numpy(X_train_nn1).type(torch.float32)\n",
    "Y_train_nn1 = torch.from_numpy(Y_train_nn1.to_numpy()).type(torch.float32)\n",
    "X_test_nn1 = torch.from_numpy(X_test_nn1).type(torch.float32)\n",
    "Y_test_nn1 = torch.from_numpy(Y_test_nn1.to_numpy()).type(torch.float32)\n",
    "X_train_nn1[:5],Y_train_nn1[:5]"
   ]
  },
  {
   "cell_type": "code",
   "execution_count": 89,
   "id": "701160a3-fd7c-49eb-9651-05f90bdfd249",
   "metadata": {
    "tags": []
   },
   "outputs": [
    {
     "data": {
      "text/plain": [
       "(torch.Size([8059, 14]), torch.Size([8059, 14]))"
      ]
     },
     "execution_count": 89,
     "metadata": {},
     "output_type": "execute_result"
    }
   ],
   "source": [
    "X_test_nn1, X_valid_nn1, Y_test_nn1, Y_valid_nn1 = train_test_split(X_test_nn1, Y_test_nn1, train_size=0.5, random_state=10)\n",
    "X_test_nn1.shape, X_valid_nn1.shape"
   ]
  },
  {
   "cell_type": "code",
   "execution_count": 90,
   "id": "257a6bd3-0ce4-4036-b113-5ff35b981f9e",
   "metadata": {
    "tags": []
   },
   "outputs": [],
   "source": [
    "model_nn1R = nn.Sequential(nn.Linear(in_features=14, out_features=10),#Input Layer to Hidden Layer\n",
    "                          nn.Sigmoid(),#Non-Linear Function\n",
    "                          nn.Linear(in_features=10, out_features=1))#Hidden Layer to Output Layer"
   ]
  },
  {
   "cell_type": "code",
   "execution_count": 91,
   "id": "7caf4720-1405-48f1-8735-f63e31b790ec",
   "metadata": {
    "tags": []
   },
   "outputs": [],
   "source": [
    "loss_nn1R = nn.BCEWithLogitsLoss()#Non-Linear Function to get probability of class inclusive here\n",
    "grad_nn1R = torch.optim.SGD(model_nn1R.parameters(), lr=0.001)"
   ]
  },
  {
   "cell_type": "code",
   "execution_count": 92,
   "id": "1cd76aa5-7b19-4a20-a4e2-65e53fcf2b64",
   "metadata": {
    "tags": []
   },
   "outputs": [
    {
     "name": "stdout",
     "output_type": "stream",
     "text": [
      "Epoch: 0 | Loss: 0.7221164107322693, Accuracy: 22.88% | Test Loss: 0.7219921350479126, Test Accuracy: 23.24%\n",
      "Epoch: 500 | Loss: 0.6351794600486755, Accuracy: 76.09% | Test Loss: 0.6362184882164001, Test Accuracy: 75.82%\n",
      "Epoch: 1000 | Loss: 0.5969881415367126, Accuracy: 76.09% | Test Loss: 0.5987575650215149, Test Accuracy: 75.82%\n",
      "Epoch: 1500 | Loss: 0.5791622996330261, Accuracy: 76.09% | Test Loss: 0.5813971757888794, Test Accuracy: 75.82%\n",
      "Epoch: 2000 | Loss: 0.5701901912689209, Accuracy: 76.09% | Test Loss: 0.5727230906486511, Test Accuracy: 75.82%\n",
      "Epoch: 2500 | Loss: 0.5652512907981873, Accuracy: 76.09% | Test Loss: 0.5679733157157898, Test Accuracy: 75.82%\n",
      "Epoch: 3000 | Loss: 0.5622280240058899, Accuracy: 76.09% | Test Loss: 0.5650664567947388, Test Accuracy: 75.82%\n",
      "Epoch: 3500 | Loss: 0.5601477026939392, Accuracy: 76.09% | Test Loss: 0.5630531311035156, Test Accuracy: 75.82%\n",
      "Epoch: 4000 | Loss: 0.5585470795631409, Accuracy: 76.09% | Test Loss: 0.5614852905273438, Test Accuracy: 75.82%\n",
      "Epoch: 4500 | Loss: 0.5571983456611633, Accuracy: 76.09% | Test Loss: 0.5601457953453064, Test Accuracy: 75.82%\n",
      "Epoch: 5000 | Loss: 0.555986762046814, Accuracy: 76.09% | Test Loss: 0.5589266419410706, Test Accuracy: 75.82%\n",
      "Epoch: 5500 | Loss: 0.5548523664474487, Accuracy: 76.09% | Test Loss: 0.5577728152275085, Test Accuracy: 75.82%\n",
      "Epoch: 6000 | Loss: 0.5537630915641785, Accuracy: 76.09% | Test Loss: 0.5566558241844177, Test Accuracy: 75.82%\n",
      "Epoch: 6500 | Loss: 0.5527008771896362, Accuracy: 76.09% | Test Loss: 0.5555596947669983, Test Accuracy: 75.82%\n",
      "Epoch: 7000 | Loss: 0.551654577255249, Accuracy: 76.09% | Test Loss: 0.5544748306274414, Test Accuracy: 75.82%\n",
      "Epoch: 7500 | Loss: 0.5506169199943542, Accuracy: 76.09% | Test Loss: 0.5533954501152039, Test Accuracy: 75.82%\n",
      "Epoch: 8000 | Loss: 0.5495831370353699, Accuracy: 76.09% | Test Loss: 0.5523170232772827, Test Accuracy: 75.82%\n",
      "Epoch: 8500 | Loss: 0.5485488772392273, Accuracy: 76.09% | Test Loss: 0.551236093044281, Test Accuracy: 75.82%\n",
      "Epoch: 9000 | Loss: 0.5475106835365295, Accuracy: 76.09% | Test Loss: 0.5501493811607361, Test Accuracy: 75.82%\n",
      "Epoch: 9500 | Loss: 0.5464655160903931, Accuracy: 76.09% | Test Loss: 0.549053966999054, Test Accuracy: 75.82%\n"
     ]
    }
   ],
   "source": [
    "torch.manual_seed(6)\n",
    "train_loss_values = []\n",
    "test_loss_values = []\n",
    "epoch_count = []\n",
    "train_accuracy_values = []\n",
    "valid_accuracy_values = []\n",
    "for epoch in range(10000):\n",
    "    ## Training    \n",
    "    # Set Training mode\n",
    "    model_nn1R.train()\n",
    "    \n",
    "    # Forward Pass\n",
    "    y_pred_nn1logits = model_nn1R(X_train_nn1).squeeze()\n",
    "    y_pred_nn1 = torch.round(torch.sigmoid(y_pred_nn1logits))\n",
    "    \n",
    "    # Calculating loss\n",
    "    losstrain = loss_nn1R(y_pred_nn1logits, Y_train_nn1)\n",
    "    \n",
    "    epoch_count.append(epoch)\n",
    "    train_loss_values.append(losstrain.item())\n",
    "    train_acc = accuracy_fn(y_true=Y_train_nn1, y_pred=y_pred_nn1)\n",
    "    train_accuracy_values.append(train_acc)\n",
    "    \n",
    "    # Zero Grad of optimizer\n",
    "    grad_nn1R.zero_grad()\n",
    "    \n",
    "    # Backward Propogation\n",
    "    losstrain.backward()\n",
    "    \n",
    "    # Progress the optimizer\n",
    "    grad_nn1R.step()\n",
    "    \n",
    "    ## Validation\n",
    "    # Setting evaluation mode\n",
    "    model_nn1R.eval()\n",
    "    \n",
    "    with torch.inference_mode():\n",
    "        valid_predlogits = model_nn1R(X_valid_nn1).squeeze()\n",
    "        valid_pred = torch.round(torch.sigmoid(valid_predlogits))\n",
    "        loss_valid = loss_nn1R(valid_predlogits, Y_valid_nn1)\n",
    "        test_loss_values.append(loss_valid.item())\n",
    "        valid_acc = accuracy_fn(y_true=Y_valid_nn1, y_pred=valid_pred)\n",
    "        valid_accuracy_values.append(valid_acc)\n",
    "        \n",
    "    if epoch%500==0:\n",
    "        print(f\"Epoch: {epoch} | Loss: {losstrain.item()}, Accuracy: {train_acc:.2f}% | Test Loss: {loss_valid.item()}, Test Accuracy: {valid_acc:.2f}%\")"
   ]
  },
  {
   "cell_type": "code",
   "execution_count": 93,
   "id": "cfd24d5a-32ce-47d6-ac91-1146f06b0881",
   "metadata": {
    "tags": []
   },
   "outputs": [
    {
     "data": {
      "text/plain": [
       "76.0909424275761"
      ]
     },
     "execution_count": 93,
     "metadata": {},
     "output_type": "execute_result"
    }
   ],
   "source": [
    "model_nn1R.eval()\n",
    "with torch.inference_mode():\n",
    "    train_pred = model_nn1R(X_train_nn1).squeeze()\n",
    "    \n",
    "train_pred = torch.round(torch.sigmoid(train_pred))\n",
    "train_acc = accuracy_fn(y_true=Y_train_nn1, y_pred=train_pred)\n",
    "cm_nn1R_train = confusion_matrix(Y_train_nn1, train_pred)\n",
    "train_acc"
   ]
  },
  {
   "cell_type": "code",
   "execution_count": 94,
   "id": "f99f595f-fbd5-41a7-8373-d0b8623a5fbd",
   "metadata": {
    "tags": []
   },
   "outputs": [
    {
     "data": {
      "text/plain": [
       "76.25015510609256"
      ]
     },
     "execution_count": 94,
     "metadata": {},
     "output_type": "execute_result"
    }
   ],
   "source": [
    "model_nn1R.eval()\n",
    "with torch.inference_mode():\n",
    "    test_pred = model_nn1R(X_test_nn1).squeeze()\n",
    "    \n",
    "test_pred = torch.round(torch.sigmoid(test_pred))\n",
    "test_acc = accuracy_fn(y_true=Y_test_nn1, y_pred=test_pred)\n",
    "cm_nn1R_test = confusion_matrix(Y_test_nn1, test_pred)\n",
    "test_acc"
   ]
  },
  {
   "cell_type": "code",
   "execution_count": 94,
   "id": "2abbee8e-2c8c-4ce7-b595-97221d6e4d5e",
   "metadata": {
    "tags": []
   },
   "outputs": [
    {
     "data": {
      "image/png": "[encoded data removed]",
      "text/plain": [
       "<Figure size 640x480 with 1 Axes>"
      ]
     },
     "metadata": {},
     "output_type": "display_data"
    }
   ],
   "source": [
    "plt.plot(epoch_count, train_accuracy_values)\n",
    "plt.plot(epoch_count, valid_accuracy_values)\n",
    "plt.title(\"Model Accuracy\")\n",
    "plt.xlabel(\"Epochs\")\n",
    "plt.ylabel(\"Accuracy\")\n",
    "plt.legend(['Train','Valid'], loc='upper left')\n",
    "plt.savefig('Acc1HiddenR.png')"
   ]
  },
  {
   "cell_type": "code",
   "execution_count": 95,
   "id": "b4adcbf9-2510-4bff-b66a-f2a01a3018da",
   "metadata": {
    "tags": []
   },
   "outputs": [
    {
     "data": {
      "image/png": "[encoded data removed]",
      "text/plain": [
       "<Figure size 640x480 with 1 Axes>"
      ]
     },
     "metadata": {},
     "output_type": "display_data"
    }
   ],
   "source": [
    "plt.plot(epoch_count, train_loss_values)\n",
    "plt.plot(epoch_count, test_loss_values)\n",
    "plt.title(\"Model Loss\")\n",
    "plt.xlabel(\"Epochs\")\n",
    "plt.ylabel(\"Loss\")\n",
    "plt.legend(['Train','Valid'], loc='upper right')\n",
    "plt.savefig('Loss1HiddenR.png')"
   ]
  },
  {
   "cell_type": "code",
   "execution_count": 63,
   "id": "7349c21e-96f9-4ddd-95bb-59dfa99d7441",
   "metadata": {
    "tags": []
   },
   "outputs": [
    {
     "data": {
      "image/png": "[encoded data removed]",
      "text/plain": [
       "<Figure size 640x480 with 2 Axes>"
      ]
     },
     "metadata": {},
     "output_type": "display_data"
    }
   ],
   "source": [
    "fignn1R, axnn1R = plt.subplots(1,2)\n",
    "heatmap = sns.heatmap(cm_nn1R_train, annot=True, fmt='d', cmap='Blues', cbar=False, ax=axnn1R[0])\n",
    "\n",
    "axnn1R[0].set_xlabel('Predicted')\n",
    "axnn1R[0].set_ylabel('True')\n",
    "axnn1R[0].xaxis.set_ticklabels(class_labels)\n",
    "axnn1R[0].yaxis.set_ticklabels(class_labels)\n",
    "plt.xticks(rotation=45)\n",
    "\n",
    "heatmap1 = sns.heatmap(cm_nn1R_test, annot=True, fmt='d', cmap='Blues', cbar=False, ax=axnn1R[1])\n",
    "\n",
    "axnn1R[1].set_xlabel('Predicted')\n",
    "axnn1R[1].set_ylabel('True')\n",
    "axnn1R[1].xaxis.set_ticklabels(class_labels)\n",
    "axnn1R[1].yaxis.set_ticklabels(class_labels)\n",
    "plt.xticks(rotation=45)\n",
    "\n",
    "axnn1R[0].set_title('Training Data')\n",
    "axnn1R[1].set_title('Testing Data')\n",
    "figst.savefig('CompareCMNN1R.png')"
   ]
  },
  {
   "cell_type": "code",
   "execution_count": 96,
   "id": "81b96ac4-98d7-4976-b741-f46d464d30cf",
   "metadata": {
    "tags": []
   },
   "outputs": [],
   "source": [
    "torch.save(model_nn1.state_dict(), f=\"NN1R.pth\")"
   ]
  },
  {
   "cell_type": "code",
   "execution_count": 57,
   "id": "4fce8dbf-ca05-43d3-8b8a-b97baaa24b14",
   "metadata": {
    "tags": []
   },
   "outputs": [
    {
     "data": {
      "text/plain": [
       "<All keys matched successfully>"
      ]
     },
     "execution_count": 57,
     "metadata": {},
     "output_type": "execute_result"
    }
   ],
   "source": [
    "model_nn1R.load_state_dict(torch.load(f='NN1R.pth'))"
   ]
  },
  {
   "cell_type": "code",
   "execution_count": 64,
   "id": "97d6d3a0-6911-4523-a175-e560b1653ac5",
   "metadata": {
    "tags": []
   },
   "outputs": [],
   "source": [
    "X_train_nn1, Y_train_nn1, X_test_nn1, X_valid_nn1, Y_test_nn1, Y_valid_nn1 = None, None, None, None, None, None"
   ]
  },
  {
   "cell_type": "markdown",
   "id": "62902df4-adbf-40e2-b2ea-fb684e5ecba7",
   "metadata": {
    "tags": []
   },
   "source": [
    "### Neural Network with 2 Hidden Layer on Random data"
   ]
  },
  {
   "cell_type": "code",
   "execution_count": 66,
   "id": "b7f56dee-0a7e-4f9c-9511-0fdb237b723b",
   "metadata": {
    "tags": []
   },
   "outputs": [
    {
     "data": {
      "text/plain": [
       "((32724, 14), (32724,))"
      ]
     },
     "execution_count": 66,
     "metadata": {},
     "output_type": "execute_result"
    }
   ],
   "source": [
    "X_train_nn2R, Y_train_nn2R, X_test_nn2R, Y_test_nn2R = X_train.copy(), Y_train.copy(), X_test.copy(), Y_test.copy()\n",
    "X_train_nn2R.shape, Y_train_nn2R.shape"
   ]
  },
  {
   "cell_type": "code",
   "execution_count": 67,
   "id": "1f5841cb-e5dc-4f8a-9431-606259985088",
   "metadata": {
    "tags": []
   },
   "outputs": [
    {
     "data": {
      "text/plain": [
       "(tensor([[ 0.0260, -0.1619,  1.5255, -0.1448, -0.2171,  0.3694, -0.0416,  1.0402,\n",
       "          -0.4104,  1.0462,  0.6106,  0.3833,  0.7042,  0.2597],\n",
       "         [-1.2139, -0.3691, -0.4193, -0.1448, -0.2171, -1.6481, -0.0416,  0.6916,\n",
       "           0.9161, -0.2903,  1.2592,  0.3833,  0.7042,  0.2597],\n",
       "         [-0.1199,  0.2159, -0.4193, -0.1448, -0.2171, -0.0341, -0.0416,  0.6916,\n",
       "          -0.4104, -0.0230,  0.6106,  0.3833,  0.7042,  0.2597],\n",
       "         [-1.3598,  0.7649, -0.4193, -0.1448, -0.2171, -0.0341, -0.0416,  0.6916,\n",
       "           0.9161, -0.8249,  1.2592,  0.3833,  0.7042,  0.2597],\n",
       "         [ 2.5059,  0.5029, -0.4193,  0.3210, -0.2171, -0.0341, -0.0416,  0.6916,\n",
       "          -0.4104, -0.8249,  0.6106,  0.3833,  0.7042, -4.7142]]),\n",
       " tensor([1., 0., 0., 0., 0.]))"
      ]
     },
     "execution_count": 67,
     "metadata": {},
     "output_type": "execute_result"
    }
   ],
   "source": [
    "X_train_nn2R = torch.from_numpy(X_train_nn2R).type(torch.float32)\n",
    "Y_train_nn2R = torch.from_numpy(Y_train_nn2R.to_numpy()).type(torch.float32)\n",
    "X_test_nn2R = torch.from_numpy(X_test_nn2R).type(torch.float32)\n",
    "Y_test_nn2R = torch.from_numpy(Y_test_nn2R.to_numpy()).type(torch.float32)\n",
    "X_train_nn2R[:5],Y_train_nn2R[:5]"
   ]
  },
  {
   "cell_type": "code",
   "execution_count": 68,
   "id": "adc1b5a8-74a7-42ec-ba0f-3941109d327b",
   "metadata": {
    "tags": []
   },
   "outputs": [
    {
     "data": {
      "text/plain": [
       "(torch.Size([8059, 14]), torch.Size([8059, 14]))"
      ]
     },
     "execution_count": 68,
     "metadata": {},
     "output_type": "execute_result"
    }
   ],
   "source": [
    "X_test_nn2R, X_valid_nn2R, Y_test_nn2R, Y_valid_nn2R = train_test_split(X_test_nn2R, Y_test_nn2R, train_size=0.5, random_state=0)\n",
    "X_test_nn2R.shape, X_valid_nn2R.shape"
   ]
  },
  {
   "cell_type": "code",
   "execution_count": 69,
   "id": "bbbe02a6-7bbb-47d9-bf06-f777c2376437",
   "metadata": {
    "tags": []
   },
   "outputs": [],
   "source": [
    "model_nn2R = nn.Sequential(nn.Linear(in_features=14, out_features=9),#Input Layer to Hidden Layer\n",
    "                          nn.Sigmoid(),#Non-Linear Function\n",
    "                          nn.Linear(in_features=9, out_features=9),#Hidden Layer to Hidden Layer\n",
    "                          nn.Sigmoid(),#Non-Linear Function\n",
    "                          nn.Linear(in_features=9, out_features=1))#Hidden Layer to Output Layer"
   ]
  },
  {
   "cell_type": "code",
   "execution_count": 70,
   "id": "fc6fec80-a5b0-4ff0-b173-abe7be382d14",
   "metadata": {
    "tags": []
   },
   "outputs": [],
   "source": [
    "loss_nn2R = nn.BCEWithLogitsLoss()#Non-Linear Function to get probability of class inclusive here\n",
    "grad_nn2R = torch.optim.SGD(model_nn2R.parameters(), lr=0.001)"
   ]
  },
  {
   "cell_type": "code",
   "execution_count": 14,
   "id": "88429e50-51b8-48f6-8350-a02811c2d052",
   "metadata": {
    "tags": []
   },
   "outputs": [
    {
     "name": "stdout",
     "output_type": "stream",
     "text": [
      "Epoch: 0 | Loss: 0.7170917987823486, Accuracy: 23.91% | Test Loss: 0.7164486646652222, Test Accuracy: 24.38%\n",
      "Epoch: 500 | Loss: 0.6271806359291077, Accuracy: 76.09% | Test Loss: 0.6284598112106323, Test Accuracy: 75.62%\n",
      "Epoch: 1000 | Loss: 0.5866732001304626, Accuracy: 76.09% | Test Loss: 0.5892166495323181, Test Accuracy: 75.62%\n",
      "Epoch: 1500 | Loss: 0.567832887172699, Accuracy: 76.09% | Test Loss: 0.571227490901947, Test Accuracy: 75.62%\n",
      "Epoch: 2000 | Loss: 0.5587666034698486, Accuracy: 76.09% | Test Loss: 0.5627464652061462, Test Accuracy: 75.62%\n",
      "Epoch: 2500 | Loss: 0.5542719960212708, Accuracy: 76.09% | Test Loss: 0.5586606860160828, Test Accuracy: 75.62%\n",
      "Epoch: 3000 | Loss: 0.5519853234291077, Accuracy: 76.09% | Test Loss: 0.5566629767417908, Test Accuracy: 75.62%\n",
      "Epoch: 3500 | Loss: 0.5507924556732178, Accuracy: 76.09% | Test Loss: 0.5556759238243103, Test Accuracy: 75.62%\n",
      "Epoch: 4000 | Loss: 0.5501520037651062, Accuracy: 76.09% | Test Loss: 0.5551827549934387, Test Accuracy: 75.62%\n",
      "Epoch: 4500 | Loss: 0.5497944355010986, Accuracy: 76.09% | Test Loss: 0.5549309253692627, Test Accuracy: 75.62%\n",
      "Epoch: 5000 | Loss: 0.549583375453949, Accuracy: 76.09% | Test Loss: 0.554796040058136, Test Accuracy: 75.62%\n",
      "Epoch: 5500 | Loss: 0.5494487881660461, Accuracy: 76.09% | Test Loss: 0.554716169834137, Test Accuracy: 75.62%\n",
      "Epoch: 6000 | Loss: 0.5493541359901428, Accuracy: 76.09% | Test Loss: 0.5546608567237854, Test Accuracy: 75.62%\n",
      "Epoch: 6500 | Loss: 0.54928058385849, Accuracy: 76.09% | Test Loss: 0.5546154975891113, Test Accuracy: 75.62%\n",
      "Epoch: 7000 | Loss: 0.5492181777954102, Accuracy: 76.09% | Test Loss: 0.554573118686676, Test Accuracy: 75.62%\n",
      "Epoch: 7500 | Loss: 0.5491614937782288, Accuracy: 76.09% | Test Loss: 0.5545306205749512, Test Accuracy: 75.62%\n",
      "Epoch: 8000 | Loss: 0.5491078495979309, Accuracy: 76.09% | Test Loss: 0.554486870765686, Test Accuracy: 75.62%\n",
      "Epoch: 8500 | Loss: 0.5490557551383972, Accuracy: 76.09% | Test Loss: 0.554441511631012, Test Accuracy: 75.62%\n",
      "Epoch: 9000 | Loss: 0.549004316329956, Accuracy: 76.09% | Test Loss: 0.554394543170929, Test Accuracy: 75.62%\n",
      "Epoch: 9500 | Loss: 0.5489532351493835, Accuracy: 76.09% | Test Loss: 0.5543462634086609, Test Accuracy: 75.62%\n"
     ]
    }
   ],
   "source": [
    "torch.manual_seed(6)\n",
    "train_loss_values2 = []\n",
    "test_loss_values2 = []\n",
    "epoch_count2 = []\n",
    "train_accuracy_values2 = []\n",
    "valid_accuracy_values2 = []\n",
    "for epoch in range(10000):\n",
    "    ## Training    \n",
    "    # Set Training mode\n",
    "    model_nn2R.train()\n",
    "    \n",
    "    # Forward Pass\n",
    "    y_pred_nn2logits = model_nn2R(X_train_nn2R).squeeze()\n",
    "    y_pred_nn2 = torch.round(torch.sigmoid(y_pred_nn2logits))\n",
    "    \n",
    "    # Calculating loss\n",
    "    losstrain = loss_nn2R(y_pred_nn2logits, Y_train_nn2R)\n",
    "    \n",
    "    epoch_count2.append(epoch)\n",
    "    train_loss_values2.append(losstrain.item())\n",
    "    train_acc = accuracy_fn(y_true=Y_train_nn2R, y_pred=y_pred_nn2)\n",
    "    train_accuracy_values2.append(train_acc)\n",
    "    \n",
    "    # Zero Grad of optimizer\n",
    "    grad_nn2R.zero_grad()\n",
    "    \n",
    "    # Backward Propogation\n",
    "    losstrain.backward()\n",
    "    \n",
    "    # Progress the optimizer\n",
    "    grad_nn2R.step()\n",
    "    \n",
    "    ## Validation\n",
    "    # Setting evaluation mode\n",
    "    model_nn2R.eval()\n",
    "    \n",
    "    with torch.inference_mode():\n",
    "        valid_predlogits = model_nn2R(X_valid_nn2R).squeeze()\n",
    "        valid_pred = torch.round(torch.sigmoid(valid_predlogits))\n",
    "        loss_valid = loss_nn2R(valid_predlogits, Y_valid_nn2R)\n",
    "        test_loss_values2.append(loss_valid.item())\n",
    "        valid_acc = accuracy_fn(y_true=Y_valid_nn2R, y_pred=valid_pred)\n",
    "        valid_accuracy_values2.append(valid_acc)\n",
    "        \n",
    "    if epoch%500==0:\n",
    "        print(f\"Epoch: {epoch} | Loss: {losstrain.item()}, Accuracy: {train_acc:.2f}% | Test Loss: {loss_valid.item()}, Test Accuracy: {valid_acc:.2f}%\")"
   ]
  },
  {
   "cell_type": "code",
   "execution_count": 71,
   "id": "eded25e0-979f-44e5-919c-2c038ba7d755",
   "metadata": {
    "tags": []
   },
   "outputs": [
    {
     "data": {
      "text/plain": [
       "76.0909424275761"
      ]
     },
     "execution_count": 71,
     "metadata": {},
     "output_type": "execute_result"
    }
   ],
   "source": [
    "model_nn2R.eval()\n",
    "with torch.inference_mode():\n",
    "    train_pred = model_nn2R(X_train_nn2R).squeeze()\n",
    "    \n",
    "train_pred = torch.round(torch.sigmoid(train_pred))\n",
    "train_acc = accuracy_fn(y_true=Y_train_nn2R, y_pred=train_pred)\n",
    "cm_nn2R_train = confusion_matrix(Y_train_nn2R, train_pred)\n",
    "train_acc"
   ]
  },
  {
   "cell_type": "code",
   "execution_count": 72,
   "id": "abad6a60-74c1-4a11-bba4-1484c80d3046",
   "metadata": {
    "tags": []
   },
   "outputs": [
    {
     "data": {
      "text/plain": [
       "76.44869090457873"
      ]
     },
     "execution_count": 72,
     "metadata": {},
     "output_type": "execute_result"
    }
   ],
   "source": [
    "model_nn2R.eval()\n",
    "with torch.inference_mode():\n",
    "    test_pred = model_nn2R(X_test_nn2R).squeeze()\n",
    "    \n",
    "test_pred = torch.round(torch.sigmoid(test_pred))\n",
    "test_acc = accuracy_fn(y_true=Y_test_nn2R, y_pred=test_pred)\n",
    "cm_nn2R_test = confusion_matrix(Y_test_nn2R, test_pred)\n",
    "test_acc"
   ]
  },
  {
   "cell_type": "code",
   "execution_count": 19,
   "id": "cdd56f88-1712-42d2-8745-b805ceeab773",
   "metadata": {
    "tags": []
   },
   "outputs": [
    {
     "data": {
      "image/png": "[encoded data removed]",
      "text/plain": [
       "<Figure size 640x480 with 1 Axes>"
      ]
     },
     "metadata": {},
     "output_type": "display_data"
    }
   ],
   "source": [
    "plt.plot(epoch_count2, train_accuracy_values2)\n",
    "plt.plot(epoch_count2, valid_accuracy_values2)\n",
    "plt.title(\"Model Accuracy\")\n",
    "plt.xlabel(\"Epochs\")\n",
    "plt.ylabel(\"Accuracy\")\n",
    "plt.legend(['Train','Valid'], loc='upper left')\n",
    "plt.savefig('Acc2HiddenR.png')"
   ]
  },
  {
   "cell_type": "code",
   "execution_count": 20,
   "id": "8c78b39c-be45-4cb2-8261-6308bd692207",
   "metadata": {
    "tags": []
   },
   "outputs": [
    {
     "data": {
      "image/png": "[encoded data removed]",
      "text/plain": [
       "<Figure size 640x480 with 1 Axes>"
      ]
     },
     "metadata": {},
     "output_type": "display_data"
    }
   ],
   "source": [
    "plt.plot(epoch_count2, train_loss_values2)\n",
    "plt.plot(epoch_count2, test_loss_values2)\n",
    "plt.title(\"Model Loss\")\n",
    "plt.xlabel(\"Epochs\")\n",
    "plt.ylabel(\"Loss\")\n",
    "plt.legend(['Train','Valid'], loc='upper right')\n",
    "plt.savefig('Loss2HiddenR.png')"
   ]
  },
  {
   "cell_type": "code",
   "execution_count": 73,
   "id": "e47afcec-bb9a-4248-8d4e-19385ab2768c",
   "metadata": {
    "tags": []
   },
   "outputs": [
    {
     "data": {
      "image/png": "[encoded data removed]",
      "text/plain": [
       "<Figure size 640x480 with 2 Axes>"
      ]
     },
     "metadata": {},
     "output_type": "display_data"
    }
   ],
   "source": [
    "fignn2R, axnn2R = plt.subplots(1,2)\n",
    "heatmap = sns.heatmap(cm_nn2R_train, annot=True, fmt='d', cmap='Blues', cbar=False, ax=axnn2R[0])\n",
    "\n",
    "axnn2R[0].set_xlabel('Predicted')\n",
    "axnn2R[0].set_ylabel('True')\n",
    "axnn2R[0].xaxis.set_ticklabels(class_labels)\n",
    "axnn2R[0].yaxis.set_ticklabels(class_labels)\n",
    "plt.xticks(rotation=45)\n",
    "\n",
    "heatmap1 = sns.heatmap(cm_nn2R_test, annot=True, fmt='d', cmap='Blues', cbar=False, ax=axnn2R[1])\n",
    "\n",
    "axnn2R[1].set_xlabel('Predicted')\n",
    "axnn2R[1].set_ylabel('True')\n",
    "axnn2R[1].xaxis.set_ticklabels(class_labels)\n",
    "axnn2R[1].yaxis.set_ticklabels(class_labels)\n",
    "plt.xticks(rotation=45)\n",
    "\n",
    "axnn2R[0].set_title('Training Data')\n",
    "axnn2R[1].set_title('Testing Data')\n",
    "figst.savefig('CompareCMNN2R.png')"
   ]
  },
  {
   "cell_type": "code",
   "execution_count": 22,
   "id": "5eb0a9f7-fa07-448b-9a55-6b4417551956",
   "metadata": {
    "tags": []
   },
   "outputs": [],
   "source": [
    "torch.save(model_nn2R.state_dict(),f='NN2R.pth')"
   ]
  },
  {
   "cell_type": "code",
   "execution_count": 23,
   "id": "85b29083-9076-4a9a-b4d4-819218a1e4db",
   "metadata": {
    "tags": []
   },
   "outputs": [
    {
     "data": {
      "text/plain": [
       "<All keys matched successfully>"
      ]
     },
     "execution_count": 23,
     "metadata": {},
     "output_type": "execute_result"
    }
   ],
   "source": [
    "model_nn2R.load_state_dict(torch.load(f='NN2R.pth'))"
   ]
  },
  {
   "cell_type": "code",
   "execution_count": 74,
   "id": "3ff9a131-5b2c-4cab-ade1-aa7a4eba9925",
   "metadata": {
    "tags": []
   },
   "outputs": [],
   "source": [
    "X_train_nn2R, Y_train_nn2R, X_test_nn2R, X_valid_nn2R, Y_test_nn2R, Y_valid_nn2R = None, None, None, None, None, None"
   ]
  },
  {
   "cell_type": "markdown",
   "id": "9957f16a-a7d4-43ec-bb7f-f9db62b6b9af",
   "metadata": {},
   "source": [
    "### Neural Network with 3 Hidden Layers on Random data"
   ]
  },
  {
   "cell_type": "code",
   "execution_count": 95,
   "id": "daf26f3f-62bc-4c48-b683-1209e6349581",
   "metadata": {
    "tags": []
   },
   "outputs": [
    {
     "data": {
      "text/plain": [
       "((32724, 14), (32724,))"
      ]
     },
     "execution_count": 95,
     "metadata": {},
     "output_type": "execute_result"
    }
   ],
   "source": [
    "X_train_nn3R, Y_train_nn3R, X_test_nn3R, Y_test_nn3R = X_train.copy(), Y_train.copy(), X_test.copy(), Y_test.copy()\n",
    "X_train_nn3R.shape, Y_train_nn3R.shape"
   ]
  },
  {
   "cell_type": "code",
   "execution_count": 96,
   "id": "2248b61e-31f4-4251-a5ca-0ce0fb540847",
   "metadata": {
    "tags": []
   },
   "outputs": [
    {
     "data": {
      "text/plain": [
       "(tensor([[ 0.0260, -0.1619,  1.5255, -0.1448, -0.2171,  0.3694, -0.0416,  1.0402,\n",
       "          -0.4104,  1.0462,  0.6106,  0.3833,  0.7042,  0.2597],\n",
       "         [-1.2139, -0.3691, -0.4193, -0.1448, -0.2171, -1.6481, -0.0416,  0.6916,\n",
       "           0.9161, -0.2903,  1.2592,  0.3833,  0.7042,  0.2597],\n",
       "         [-0.1199,  0.2159, -0.4193, -0.1448, -0.2171, -0.0341, -0.0416,  0.6916,\n",
       "          -0.4104, -0.0230,  0.6106,  0.3833,  0.7042,  0.2597],\n",
       "         [-1.3598,  0.7649, -0.4193, -0.1448, -0.2171, -0.0341, -0.0416,  0.6916,\n",
       "           0.9161, -0.8249,  1.2592,  0.3833,  0.7042,  0.2597],\n",
       "         [ 2.5059,  0.5029, -0.4193,  0.3210, -0.2171, -0.0341, -0.0416,  0.6916,\n",
       "          -0.4104, -0.8249,  0.6106,  0.3833,  0.7042, -4.7142]]),\n",
       " tensor([1., 0., 0., 0., 0.]))"
      ]
     },
     "execution_count": 96,
     "metadata": {},
     "output_type": "execute_result"
    }
   ],
   "source": [
    "X_train_nn3R = torch.from_numpy(X_train_nn3R).type(torch.float32)\n",
    "Y_train_nn3R = torch.from_numpy(Y_train_nn3R.to_numpy()).type(torch.float32)\n",
    "X_test_nn3R = torch.from_numpy(X_test_nn3R).type(torch.float32)\n",
    "Y_test_nn3R = torch.from_numpy(Y_test_nn3R.to_numpy()).type(torch.float32)\n",
    "X_train_nn3R[:5],Y_train_nn3R[:5]"
   ]
  },
  {
   "cell_type": "code",
   "execution_count": 97,
   "id": "725c7bbf-6f83-451b-9132-b100d063ca14",
   "metadata": {
    "tags": []
   },
   "outputs": [
    {
     "data": {
      "text/plain": [
       "(torch.Size([8059, 14]), torch.Size([8059, 14]))"
      ]
     },
     "execution_count": 97,
     "metadata": {},
     "output_type": "execute_result"
    }
   ],
   "source": [
    "X_test_nn3R, X_valid_nn3R, Y_test_nn3R, Y_valid_nn3R = train_test_split(X_test_nn3R, Y_test_nn3R, train_size=0.5, random_state=0)\n",
    "X_test_nn3R.shape, X_valid_nn3R.shape"
   ]
  },
  {
   "cell_type": "code",
   "execution_count": 98,
   "id": "0d06ffb0-9496-4c88-b3e6-ed2884668efa",
   "metadata": {
    "tags": []
   },
   "outputs": [],
   "source": [
    "model_nn3R = nn.Sequential(nn.Linear(in_features=14, out_features=9),#Input Layer to Hidden Layer1\n",
    "                          nn.Sigmoid(),#Non-Linear Function\n",
    "                          nn.Linear(in_features=9, out_features=9),#Hidden Layer1 to Hidden Layer2\n",
    "                          nn.Sigmoid(),#Non-Linear Function\n",
    "                          nn.Linear(in_features=9, out_features=9),#Hidden Layer2 to Hidden Layer3\n",
    "                          nn.Sigmoid(),#Non-Linear Function\n",
    "                          nn.Linear(in_features=9, out_features=1))#Hidden Layer3 to Output Layer"
   ]
  },
  {
   "cell_type": "code",
   "execution_count": 99,
   "id": "8621ec51-be0c-4434-99c4-8d0fcf338324",
   "metadata": {
    "tags": []
   },
   "outputs": [],
   "source": [
    "loss_nn3R = nn.BCEWithLogitsLoss()#Non-Linear Function to get probability of class inclusive here\n",
    "grad_nn3R = torch.optim.SGD(model_nn3R.parameters(), lr=0.001)"
   ]
  },
  {
   "cell_type": "code",
   "execution_count": 34,
   "id": "762c4b65-2a0f-49b8-b26e-5c0d69261355",
   "metadata": {
    "tags": []
   },
   "outputs": [
    {
     "name": "stdout",
     "output_type": "stream",
     "text": [
      "Epoch: 0 | Loss: 0.7997727394104004, Accuracy: 23.91% | Test Loss: 0.7977226972579956, Test Accuracy: 24.38%\n",
      "Epoch: 500 | Loss: 0.6665714979171753, Accuracy: 76.09% | Test Loss: 0.6669029593467712, Test Accuracy: 75.62%\n",
      "Epoch: 1000 | Loss: 0.6061744689941406, Accuracy: 76.09% | Test Loss: 0.6080610752105713, Test Accuracy: 75.62%\n",
      "Epoch: 1500 | Loss: 0.5779739618301392, Accuracy: 76.09% | Test Loss: 0.5809035301208496, Test Accuracy: 75.62%\n",
      "Epoch: 2000 | Loss: 0.5643200278282166, Accuracy: 76.09% | Test Loss: 0.5679678320884705, Test Accuracy: 75.62%\n",
      "Epoch: 2500 | Loss: 0.5574976801872253, Accuracy: 76.09% | Test Loss: 0.5616502165794373, Test Accuracy: 75.62%\n",
      "Epoch: 3000 | Loss: 0.5540036559104919, Accuracy: 76.09% | Test Loss: 0.5585160255432129, Test Accuracy: 75.62%\n",
      "Epoch: 3500 | Loss: 0.5521805286407471, Accuracy: 76.09% | Test Loss: 0.5569522976875305, Test Accuracy: 75.62%\n",
      "Epoch: 4000 | Loss: 0.5512158274650574, Accuracy: 76.09% | Test Loss: 0.556175947189331, Test Accuracy: 75.62%\n",
      "Epoch: 4500 | Loss: 0.5507000088691711, Accuracy: 76.09% | Test Loss: 0.5557977557182312, Test Accuracy: 75.62%\n",
      "Epoch: 5000 | Loss: 0.5504220128059387, Accuracy: 76.09% | Test Loss: 0.5556206703186035, Test Accuracy: 75.62%\n",
      "Epoch: 5500 | Loss: 0.5502711534500122, Accuracy: 76.09% | Test Loss: 0.5555440783500671, Test Accuracy: 75.62%\n",
      "Epoch: 6000 | Loss: 0.5501888394355774, Accuracy: 76.09% | Test Loss: 0.5555164813995361, Test Accuracy: 75.62%\n",
      "Epoch: 6500 | Loss: 0.5501436591148376, Accuracy: 76.09% | Test Loss: 0.5555118322372437, Test Accuracy: 75.62%\n",
      "Epoch: 7000 | Loss: 0.5501187443733215, Accuracy: 76.09% | Test Loss: 0.5555167198181152, Test Accuracy: 75.62%\n",
      "Epoch: 7500 | Loss: 0.5501047968864441, Accuracy: 76.09% | Test Loss: 0.5555248260498047, Test Accuracy: 75.62%\n",
      "Epoch: 8000 | Loss: 0.550096869468689, Accuracy: 76.09% | Test Loss: 0.5555331707000732, Test Accuracy: 75.62%\n",
      "Epoch: 8500 | Loss: 0.5500922203063965, Accuracy: 76.09% | Test Loss: 0.5555407404899597, Test Accuracy: 75.62%\n",
      "Epoch: 9000 | Loss: 0.550089418888092, Accuracy: 76.09% | Test Loss: 0.5555468797683716, Test Accuracy: 75.62%\n",
      "Epoch: 9500 | Loss: 0.5500876307487488, Accuracy: 76.09% | Test Loss: 0.5555517673492432, Test Accuracy: 75.62%\n"
     ]
    }
   ],
   "source": [
    "torch.manual_seed(6)\n",
    "train_loss_values3 = []\n",
    "test_loss_values3 = []\n",
    "epoch_count3 = []\n",
    "train_accuracy_values3 = []\n",
    "valid_accuracy_values3 = []\n",
    "for epoch in range(10000):\n",
    "    ## Training    \n",
    "    # Set Training mode\n",
    "    model_nn3R.train()\n",
    "    \n",
    "    # Forward Pass\n",
    "    y_pred_nn3logits = model_nn3R(X_train_nn3R).squeeze()\n",
    "    y_pred_nn3 = torch.round(torch.sigmoid(y_pred_nn3logits))\n",
    "    \n",
    "    # Calculating loss\n",
    "    losstrain = loss_nn3R(y_pred_nn3logits, Y_train_nn3R)\n",
    "    \n",
    "    epoch_count3.append(epoch)\n",
    "    train_loss_values3.append(losstrain.item())\n",
    "    train_acc = accuracy_fn(y_true=Y_train_nn3R, y_pred=y_pred_nn3)\n",
    "    train_accuracy_values3.append(train_acc)\n",
    "    \n",
    "    # Zero Grad of optimizer\n",
    "    grad_nn3R.zero_grad()\n",
    "    \n",
    "    # Backward Propogation\n",
    "    losstrain.backward()\n",
    "    \n",
    "    # Progress the optimizer\n",
    "    grad_nn3R.step()\n",
    "    \n",
    "    ## Validation\n",
    "    # Setting evaluation mode\n",
    "    model_nn3R.eval()\n",
    "    \n",
    "    with torch.inference_mode():\n",
    "        valid_predlogits = model_nn3R(X_valid_nn3R).squeeze()\n",
    "        valid_pred = torch.round(torch.sigmoid(valid_predlogits))\n",
    "        loss_valid = loss_nn3R(valid_predlogits, Y_valid_nn3R)\n",
    "        test_loss_values3.append(loss_valid.item())\n",
    "        valid_acc = accuracy_fn(y_true=Y_valid_nn3R, y_pred=valid_pred)\n",
    "        valid_accuracy_values3.append(valid_acc)\n",
    "        \n",
    "    if epoch%500==0:\n",
    "        print(f\"Epoch: {epoch} | Loss: {losstrain.item()}, Accuracy: {train_acc:.2f}% | Test Loss: {loss_valid.item()}, Test Accuracy: {valid_acc:.2f}%\")"
   ]
  },
  {
   "cell_type": "code",
   "execution_count": 82,
   "id": "f6b845a4-0069-4d14-83ac-607d42380d95",
   "metadata": {
    "tags": []
   },
   "outputs": [
    {
     "data": {
      "text/plain": [
       "76.0909424275761"
      ]
     },
     "execution_count": 82,
     "metadata": {},
     "output_type": "execute_result"
    }
   ],
   "source": [
    "model_nn3R.eval()\n",
    "with torch.inference_mode():\n",
    "    train_pred = model_nn3R(X_train_nn3R).squeeze()\n",
    "    \n",
    "train_pred = torch.round(torch.sigmoid(train_pred))\n",
    "train_acc = accuracy_fn(y_true=Y_train_nn3R, y_pred=train_pred)\n",
    "cm_nn3R_train = confusion_matrix(Y_train_nn3R, train_pred)\n",
    "train_acc"
   ]
  },
  {
   "cell_type": "code",
   "execution_count": 84,
   "id": "9704125e-5aaa-48aa-8600-c2b986dfe4ea",
   "metadata": {
    "tags": []
   },
   "outputs": [
    {
     "data": {
      "text/plain": [
       "76.44869090457873"
      ]
     },
     "execution_count": 84,
     "metadata": {},
     "output_type": "execute_result"
    }
   ],
   "source": [
    "model_nn3R.eval()\n",
    "with torch.inference_mode():\n",
    "    test_pred = model_nn3R(X_test_nn3R).squeeze()\n",
    "    \n",
    "test_pred = torch.round(torch.sigmoid(test_pred))\n",
    "test_acc = accuracy_fn(y_true=Y_test_nn3R, y_pred=test_pred)\n",
    "cm_nn3R_test = confusion_matrix(Y_test_nn3R, test_pred)\n",
    "test_acc"
   ]
  },
  {
   "cell_type": "code",
   "execution_count": 37,
   "id": "9aad375e-a0ff-4549-ba90-3988aa40d51a",
   "metadata": {
    "tags": []
   },
   "outputs": [
    {
     "data": {
      "image/png": "[encoded data removed]",
      "text/plain": [
       "<Figure size 640x480 with 1 Axes>"
      ]
     },
     "metadata": {},
     "output_type": "display_data"
    }
   ],
   "source": [
    "plt.plot(epoch_count3, train_accuracy_values3)\n",
    "plt.plot(epoch_count3, valid_accuracy_values3)\n",
    "plt.title(\"Model Accuracy\")\n",
    "plt.xlabel(\"Epochs\")\n",
    "plt.ylabel(\"Accuracy\")\n",
    "plt.legend(['Train','Valid'], loc='upper left')\n",
    "plt.savefig('Acc3HiddenR.png')"
   ]
  },
  {
   "cell_type": "code",
   "execution_count": 38,
   "id": "a76587c6-7c29-4ece-bb82-1cd60e8cd00a",
   "metadata": {
    "tags": []
   },
   "outputs": [
    {
     "data": {
      "image/png": "[encoded data removed]",
      "text/plain": [
       "<Figure size 640x480 with 1 Axes>"
      ]
     },
     "metadata": {},
     "output_type": "display_data"
    }
   ],
   "source": [
    "plt.plot(epoch_count3, train_loss_values3)\n",
    "plt.plot(epoch_count3, test_loss_values3)\n",
    "plt.title(\"Model Loss\")\n",
    "plt.xlabel(\"Epochs\")\n",
    "plt.ylabel(\"Loss\")\n",
    "plt.legend(['Train','Valid'], loc='upper right')\n",
    "plt.savefig('Loss3HiddenR.png')"
   ]
  },
  {
   "cell_type": "code",
   "execution_count": 85,
   "id": "d2e23f4c-1ae0-4022-a2fa-d0b684b4dbb2",
   "metadata": {
    "tags": []
   },
   "outputs": [
    {
     "data": {
      "image/png": "[encoded data removed]",
      "text/plain": [
       "<Figure size 640x480 with 2 Axes>"
      ]
     },
     "metadata": {},
     "output_type": "display_data"
    }
   ],
   "source": [
    "fignn3R, axnn3R = plt.subplots(1,2)\n",
    "heatmap = sns.heatmap(cm_nn3R_train, annot=True, fmt='d', cmap='Blues', cbar=False, ax=axnn3R[0])\n",
    "\n",
    "axnn3R[0].set_xlabel('Predicted')\n",
    "axnn3R[0].set_ylabel('True')\n",
    "axnn3R[0].xaxis.set_ticklabels(class_labels)\n",
    "axnn3R[0].yaxis.set_ticklabels(class_labels)\n",
    "plt.xticks(rotation=45)\n",
    "\n",
    "heatmap1 = sns.heatmap(cm_nn3R_test, annot=True, fmt='d', cmap='Blues', cbar=False, ax=axnn3R[1])\n",
    "\n",
    "axnn3R[1].set_xlabel('Predicted')\n",
    "axnn3R[1].set_ylabel('True')\n",
    "axnn3R[1].xaxis.set_ticklabels(class_labels)\n",
    "axnn3R[1].yaxis.set_ticklabels(class_labels)\n",
    "plt.xticks(rotation=45)\n",
    "\n",
    "axnn3R[0].set_title('Training Data')\n",
    "axnn3R[1].set_title('Testing Data')\n",
    "figst.savefig('CompareCMNN3R.png')"
   ]
  },
  {
   "cell_type": "code",
   "execution_count": 39,
   "id": "e44dc9bb-607b-4aec-bd14-9813cc3942db",
   "metadata": {
    "tags": []
   },
   "outputs": [],
   "source": [
    "torch.save(model_nn3R.state_dict(),f='NN3R.pth')"
   ]
  },
  {
   "cell_type": "code",
   "execution_count": 100,
   "id": "2f7bafe4-20f9-4ef7-8753-fc226ccb3d03",
   "metadata": {
    "tags": []
   },
   "outputs": [
    {
     "data": {
      "text/plain": [
       "<All keys matched successfully>"
      ]
     },
     "execution_count": 100,
     "metadata": {},
     "output_type": "execute_result"
    }
   ],
   "source": [
    "model_nn3R.load_state_dict(torch.load(f='NN3R.pth'))"
   ]
  },
  {
   "cell_type": "code",
   "execution_count": 107,
   "id": "0bacb5a3-2afb-4b3a-8ee0-6e0232e18ad8",
   "metadata": {
    "tags": []
   },
   "outputs": [
    {
     "data": {
      "text/plain": [
       "{'0.4': 0, '0.3': 0, '0.2': 1898, '0.1': 0, '0.0': 0}"
      ]
     },
     "execution_count": 107,
     "metadata": {},
     "output_type": "execute_result"
    }
   ],
   "source": [
    "model_nn3R.eval()\n",
    "with torch.inference_mode():\n",
    "    test_pred = model_nn3R(X_test_nn3R).squeeze()\n",
    "results = {'0.4':0,'0.3':0,'0.2':0,'0.1':0,'0.0':0}\n",
    "test_pred = (torch.sigmoid(test_pred))\n",
    "for i in range(0,len(Y_test_nn3R)):\n",
    "    if Y_test_nn3R[i]==1:\n",
    "        if test_pred[i]>=0.4:\n",
    "            results['0.4']+=1\n",
    "        elif test_pred[i]>=0.3:\n",
    "            results['0.3']+=1\n",
    "        elif test_pred[i]>=0.2:\n",
    "            results['0.2']+=1\n",
    "        elif test_pred[i]>=0.1:\n",
    "            results['0.1']+=1\n",
    "        else:\n",
    "            results['0.0']+=1\n",
    "results"
   ]
  },
  {
   "cell_type": "code",
   "execution_count": 86,
   "id": "1fe17ebe-9e8b-4967-bc42-b172a5a0a070",
   "metadata": {
    "tags": []
   },
   "outputs": [],
   "source": [
    "X_train_nn3R, Y_train_nn3R, X_test_nn3R, X_valid_nn3R, Y_test_nn3R, Y_valid_nn3R = None, None, None, None, None, None"
   ]
  },
  {
   "cell_type": "markdown",
   "id": "20c79bb0-cff8-42ae-b5d0-1dfae869caf4",
   "metadata": {},
   "source": [
    "### Studying the Results obained so far\n",
    "The results for all the models we have created so far give us some insight on the data as well as its distribution. The training and testing data both have more <50K class, and the lack of >=50K class creates a problem for the model to recogonize it perfectly. This can be demonstrated using the confusion matrix for training and testing data."
   ]
  },
  {
   "cell_type": "code",
   "execution_count": 54,
   "id": "9461657b-43ee-4440-bf05-295810563325",
   "metadata": {
    "tags": []
   },
   "outputs": [
    {
     "data": {
      "image/png": "[encoded data removed]",
      "text/plain": [
       "<Figure size 640x480 with 2 Axes>"
      ]
     },
     "metadata": {},
     "output_type": "display_data"
    }
   ],
   "source": [
    "figst, axst = plt.subplots(1,2)\n",
    "heatmap = sns.heatmap(cm_nbr_, annot=True, fmt='d', cmap='Blues', cbar=False, ax=axst[0])\n",
    "\n",
    "axst[0].set_xlabel('Predicted')\n",
    "axst[0].set_ylabel('True')\n",
    "axst[0].xaxis.set_ticklabels(class_labels)\n",
    "axst[0].yaxis.set_ticklabels(class_labels)\n",
    "plt.xticks(rotation=45)\n",
    "\n",
    "heatmap1 = sns.heatmap(cm_nbr, annot=True, fmt='d', cmap='Blues', cbar=False, ax=axst[1])\n",
    "\n",
    "axst[1].set_xlabel('Predicted')\n",
    "axst[1].set_ylabel('True')\n",
    "axst[1].xaxis.set_ticklabels(class_labels)\n",
    "axst[1].yaxis.set_ticklabels(class_labels)\n",
    "plt.xticks(rotation=45)\n",
    "\n",
    "axst[0].set_title('Training Data')\n",
    "axst[1].set_title('Testing Data')\n",
    "figst.savefig('CompareCMNBR.png')"
   ]
  },
  {
   "cell_type": "markdown",
   "id": "7d53199e-b9f3-45fc-8b50-512f9ef8644a",
   "metadata": {},
   "source": [
    "Here, comparing the Confusion Matrices for training and testing data, we can clearly observe that the matrix is correctly classifying the <50K class, where as it is failing to do so with accuracy for >=50K class. The reason is also apparent, which is due to the fact that the overall data has low amount of training for >=50K class, causing the model to fail in learning the generality of the said data."
   ]
  },
  {
   "cell_type": "markdown",
   "id": "a79c711c-3738-427a-b0fb-cd26c8a18f95",
   "metadata": {},
   "source": [
    "#### Naive Bayes Classifier\n",
    "Obtaining a score of 0.8192008844937195 for training and 0.8161046618758061 for testing data, this model is able to correctly predict more of >=50K classes compared to <50K classes. But if we randomly take data for training and testing in the combined data, we observe 0.8173511795624007 and 0.8164784712743517 for training and testing data, which is only a miniscule improvement.\n",
    "#### Logistic Regression Model\n",
    "Moving to Logistic Regression Model, we obtain 0.8327139829857806 and 0.8300472943922363 for training and testing on given dataset, which is better compared to NB model. It also shows the similar results, but is somewhat better in classifying >=50K class. For Random datasets, we get 0.8316831683168316 and 0.8357736691897257 for training and testing, which is a 0.5% improvement in testing, showing that the random dataset is better in generalizing the result.\n",
    "#### Neural Network\n",
    "For given dataset, we get 75.91904425539757 and 76.8058968058968 for training and testing, we observe that the confusion matrix basically predicts the >=50K class to be 0. This is not an accurate description, as the Neural Network returns the probability of data, and we have forcibly rounded them off to comprehend the data, resulting in the low probabilities being converted to 0. Since we don't have another metric with our current knowledge to quantify our result, we're left with this output. So, for random dataset, we get 76.0909424275761 and 76.25015510609256 for training and testing, which again is constant through the three layer changes, so how do we quantify the usefulness of hidden layers?\n",
    "\n",
    "We will look at the data yielded while training, which are the loss and accuracy graphs. These graphs become deeper and stabler as the no. of hidden layers increase. We can also observe that as we go from given to random data, the graph for valid and train data indicate, whcih allow us to decide where to stop training to get a more generalized result.\n",
    "\n",
    "Another method is to change our threshhold for probability calculation from 0.5 to a ratio which represents testing/training data, but the vailidity of this method needs to be clarified."
   ]
  },
  {
   "cell_type": "markdown",
   "id": "195ba4c3-122e-4358-a029-7478fde61735",
   "metadata": {},
   "source": [
    "### Ranking the classifiers\n",
    "So far, we have classified the given data to get final salary classes, using 5 methods. Among those, the efficacy of Decision Tree has been the highest with accuracy of 85.92% on testing data, given we perform post pruning. Following this with accuracy of 85.47% on testing data is Random Forest Classifier. Following this is logistic regression model with accuracy of 83.58%, followed by Naive Bayes Classifier, with accuracy 81.65%. Neural Network in general ranked the lowest with accuracy only reaching 76.81%, but this is arguable since our method of accuracy calculation in not verified. To finalize, we can say that our models have been Ranked as:\n",
    "- Decision Tree\n",
    "- Random Forest\n",
    "- Logistic Regression\n",
    "- Naive Bayes\n",
    "- Neural Network\n",
    "\n",
    "but if we can obtain correct data, which has equal amount of both classes, or correct accuracy threshold, we can with guarantee state that Neural Network can give the most general result, whcih can be proven from the fact that while there is a big gap in the training and testing accuracy for all the other models, the training accuracy and testing accuracy of Neural Networks are similar, showing the genrality of the result."
   ]
  },
  {
   "cell_type": "code",
   "execution_count": 107,
   "id": "f5d89abf-d76b-4f3a-baa0-f1deb45790b3",
   "metadata": {
    "tags": []
   },
   "outputs": [
    {
     "data": {
      "text/plain": [
       "{'0.4': 0, '0.3': 0, '0.2': 1898, '0.1': 0, '0.0': 0}"
      ]
     },
     "execution_count": 107,
     "metadata": {},
     "output_type": "execute_result"
    }
   ],
   "source": [
    "model_nn3R.eval()\n",
    "with torch.inference_mode():\n",
    "    test_pred = model_nn3R(X_test_nn3R).squeeze()\n",
    "results = {'0.4':0,'0.3':0,'0.2':0,'0.1':0,'0.0':0}\n",
    "test_pred = (torch.sigmoid(test_pred))\n",
    "for i in range(0,len(Y_test_nn3R)):\n",
    "    if Y_test_nn3R[i]==1:\n",
    "        if test_pred[i]>=0.4:\n",
    "            results['0.4']+=1\n",
    "        elif test_pred[i]>=0.3:\n",
    "            results['0.3']+=1\n",
    "        elif test_pred[i]>=0.2:\n",
    "            results['0.2']+=1\n",
    "        elif test_pred[i]>=0.1:\n",
    "            results['0.1']+=1\n",
    "        else:\n",
    "            results['0.0']+=1\n",
    "results"
   ]
  },
  {
   "cell_type": "markdown",
   "id": "569aa36f-500b-4b72-afd1-f498ba900358",
   "metadata": {},
   "source": [
    "The above cell clearly shows that all answers lie between 0.2 and 0.3, which cannot be dismissed as a coincidence, and that the study needs to be further improved to improve our data. So for now, we can simply say that a pruned decision tree is the best classifier for this uneven data distribution, whereas the Neural Network gives the most general ditribution."
   ]
  }
 ],
 "metadata": {
  "kernelspec": {
   "display_name": "Python 3 (ipykernel)",
   "language": "python",
   "name": "python3"
  },
  "language_info": {
   "codemirror_mode": {
    "name": "ipython",
    "version": 3
   },
   "file_extension": ".py",
   "mimetype": "text/x-python",
   "name": "python",
   "nbconvert_exporter": "python",
   "pygments_lexer": "ipython3",
   "version": "3.10.11"
  }
 },
 "nbformat": 4,
 "nbformat_minor": 5
}
